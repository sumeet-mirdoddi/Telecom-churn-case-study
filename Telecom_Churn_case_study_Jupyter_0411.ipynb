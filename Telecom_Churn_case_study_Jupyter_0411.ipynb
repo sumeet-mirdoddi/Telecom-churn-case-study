{
 "cells": [
  {
   "cell_type": "code",
   "execution_count": 3,
   "metadata": {},
   "outputs": [],
   "source": [
    "import numpy as np\n",
    "import pandas as pd\n",
    "import matplotlib.pyplot as plt\n",
    "import seaborn as sns\n",
    "\n",
    "from sklearn.decomposition import PCA\n",
    "import matplotlib.patches as mpatches\n",
    "import time\n",
    "\n",
    "\n",
    "from sklearn.linear_model import LogisticRegression\n",
    "\n",
    "from sklearn.model_selection import train_test_split\n",
    "from sklearn.pipeline import make_pipeline\n",
    "\n",
    "from sklearn.metrics import precision_score, recall_score, f1_score, roc_auc_score, accuracy_score, classification_report,confusion_matrix ,roc_curve,precision_recall_curve\n",
    "from sklearn.model_selection import KFold, StratifiedKFold\n",
    "import warnings\n",
    "warnings.filterwarnings(\"ignore\")\n"
   ]
  },
  {
   "cell_type": "code",
   "execution_count": 4,
   "metadata": {},
   "outputs": [],
   "source": [
    "telecom_churn_data = pd.read_csv(\"telecom_churn_data.csv\")"
   ]
  },
  {
   "cell_type": "code",
   "execution_count": 5,
   "metadata": {},
   "outputs": [
    {
     "data": {
      "text/html": [
       "<div>\n",
       "<style scoped>\n",
       "    .dataframe tbody tr th:only-of-type {\n",
       "        vertical-align: middle;\n",
       "    }\n",
       "\n",
       "    .dataframe tbody tr th {\n",
       "        vertical-align: top;\n",
       "    }\n",
       "\n",
       "    .dataframe thead th {\n",
       "        text-align: right;\n",
       "    }\n",
       "</style>\n",
       "<table border=\"1\" class=\"dataframe\">\n",
       "  <thead>\n",
       "    <tr style=\"text-align: right;\">\n",
       "      <th></th>\n",
       "      <th>mobile_number</th>\n",
       "      <th>circle_id</th>\n",
       "      <th>loc_og_t2o_mou</th>\n",
       "      <th>std_og_t2o_mou</th>\n",
       "      <th>loc_ic_t2o_mou</th>\n",
       "      <th>last_date_of_month_6</th>\n",
       "      <th>last_date_of_month_7</th>\n",
       "      <th>last_date_of_month_8</th>\n",
       "      <th>last_date_of_month_9</th>\n",
       "      <th>arpu_6</th>\n",
       "      <th>...</th>\n",
       "      <th>sachet_3g_9</th>\n",
       "      <th>fb_user_6</th>\n",
       "      <th>fb_user_7</th>\n",
       "      <th>fb_user_8</th>\n",
       "      <th>fb_user_9</th>\n",
       "      <th>aon</th>\n",
       "      <th>aug_vbc_3g</th>\n",
       "      <th>jul_vbc_3g</th>\n",
       "      <th>jun_vbc_3g</th>\n",
       "      <th>sep_vbc_3g</th>\n",
       "    </tr>\n",
       "  </thead>\n",
       "  <tbody>\n",
       "    <tr>\n",
       "      <th>0</th>\n",
       "      <td>7000842753</td>\n",
       "      <td>109</td>\n",
       "      <td>0.0</td>\n",
       "      <td>0.0</td>\n",
       "      <td>0.0</td>\n",
       "      <td>6/30/2014</td>\n",
       "      <td>7/31/2014</td>\n",
       "      <td>8/31/2014</td>\n",
       "      <td>9/30/2014</td>\n",
       "      <td>197.385</td>\n",
       "      <td>...</td>\n",
       "      <td>0</td>\n",
       "      <td>1.0</td>\n",
       "      <td>1.0</td>\n",
       "      <td>1.0</td>\n",
       "      <td>NaN</td>\n",
       "      <td>968</td>\n",
       "      <td>30.4</td>\n",
       "      <td>0.0</td>\n",
       "      <td>101.20</td>\n",
       "      <td>3.58</td>\n",
       "    </tr>\n",
       "    <tr>\n",
       "      <th>1</th>\n",
       "      <td>7001865778</td>\n",
       "      <td>109</td>\n",
       "      <td>0.0</td>\n",
       "      <td>0.0</td>\n",
       "      <td>0.0</td>\n",
       "      <td>6/30/2014</td>\n",
       "      <td>7/31/2014</td>\n",
       "      <td>8/31/2014</td>\n",
       "      <td>9/30/2014</td>\n",
       "      <td>34.047</td>\n",
       "      <td>...</td>\n",
       "      <td>0</td>\n",
       "      <td>NaN</td>\n",
       "      <td>1.0</td>\n",
       "      <td>1.0</td>\n",
       "      <td>NaN</td>\n",
       "      <td>1006</td>\n",
       "      <td>0.0</td>\n",
       "      <td>0.0</td>\n",
       "      <td>0.00</td>\n",
       "      <td>0.00</td>\n",
       "    </tr>\n",
       "    <tr>\n",
       "      <th>2</th>\n",
       "      <td>7001625959</td>\n",
       "      <td>109</td>\n",
       "      <td>0.0</td>\n",
       "      <td>0.0</td>\n",
       "      <td>0.0</td>\n",
       "      <td>6/30/2014</td>\n",
       "      <td>7/31/2014</td>\n",
       "      <td>8/31/2014</td>\n",
       "      <td>9/30/2014</td>\n",
       "      <td>167.690</td>\n",
       "      <td>...</td>\n",
       "      <td>0</td>\n",
       "      <td>NaN</td>\n",
       "      <td>NaN</td>\n",
       "      <td>NaN</td>\n",
       "      <td>1.0</td>\n",
       "      <td>1103</td>\n",
       "      <td>0.0</td>\n",
       "      <td>0.0</td>\n",
       "      <td>4.17</td>\n",
       "      <td>0.00</td>\n",
       "    </tr>\n",
       "    <tr>\n",
       "      <th>3</th>\n",
       "      <td>7001204172</td>\n",
       "      <td>109</td>\n",
       "      <td>0.0</td>\n",
       "      <td>0.0</td>\n",
       "      <td>0.0</td>\n",
       "      <td>6/30/2014</td>\n",
       "      <td>7/31/2014</td>\n",
       "      <td>8/31/2014</td>\n",
       "      <td>9/30/2014</td>\n",
       "      <td>221.338</td>\n",
       "      <td>...</td>\n",
       "      <td>0</td>\n",
       "      <td>NaN</td>\n",
       "      <td>NaN</td>\n",
       "      <td>NaN</td>\n",
       "      <td>NaN</td>\n",
       "      <td>2491</td>\n",
       "      <td>0.0</td>\n",
       "      <td>0.0</td>\n",
       "      <td>0.00</td>\n",
       "      <td>0.00</td>\n",
       "    </tr>\n",
       "    <tr>\n",
       "      <th>4</th>\n",
       "      <td>7000142493</td>\n",
       "      <td>109</td>\n",
       "      <td>0.0</td>\n",
       "      <td>0.0</td>\n",
       "      <td>0.0</td>\n",
       "      <td>6/30/2014</td>\n",
       "      <td>7/31/2014</td>\n",
       "      <td>8/31/2014</td>\n",
       "      <td>9/30/2014</td>\n",
       "      <td>261.636</td>\n",
       "      <td>...</td>\n",
       "      <td>0</td>\n",
       "      <td>0.0</td>\n",
       "      <td>NaN</td>\n",
       "      <td>NaN</td>\n",
       "      <td>NaN</td>\n",
       "      <td>1526</td>\n",
       "      <td>0.0</td>\n",
       "      <td>0.0</td>\n",
       "      <td>0.00</td>\n",
       "      <td>0.00</td>\n",
       "    </tr>\n",
       "  </tbody>\n",
       "</table>\n",
       "<p>5 rows × 226 columns</p>\n",
       "</div>"
      ],
      "text/plain": [
       "   mobile_number  circle_id  loc_og_t2o_mou  std_og_t2o_mou  loc_ic_t2o_mou  \\\n",
       "0     7000842753        109             0.0             0.0             0.0   \n",
       "1     7001865778        109             0.0             0.0             0.0   \n",
       "2     7001625959        109             0.0             0.0             0.0   \n",
       "3     7001204172        109             0.0             0.0             0.0   \n",
       "4     7000142493        109             0.0             0.0             0.0   \n",
       "\n",
       "  last_date_of_month_6 last_date_of_month_7 last_date_of_month_8  \\\n",
       "0            6/30/2014            7/31/2014            8/31/2014   \n",
       "1            6/30/2014            7/31/2014            8/31/2014   \n",
       "2            6/30/2014            7/31/2014            8/31/2014   \n",
       "3            6/30/2014            7/31/2014            8/31/2014   \n",
       "4            6/30/2014            7/31/2014            8/31/2014   \n",
       "\n",
       "  last_date_of_month_9   arpu_6     ...      sachet_3g_9  fb_user_6  \\\n",
       "0            9/30/2014  197.385     ...                0        1.0   \n",
       "1            9/30/2014   34.047     ...                0        NaN   \n",
       "2            9/30/2014  167.690     ...                0        NaN   \n",
       "3            9/30/2014  221.338     ...                0        NaN   \n",
       "4            9/30/2014  261.636     ...                0        0.0   \n",
       "\n",
       "   fb_user_7  fb_user_8  fb_user_9   aon  aug_vbc_3g  jul_vbc_3g  jun_vbc_3g  \\\n",
       "0        1.0        1.0        NaN   968        30.4         0.0      101.20   \n",
       "1        1.0        1.0        NaN  1006         0.0         0.0        0.00   \n",
       "2        NaN        NaN        1.0  1103         0.0         0.0        4.17   \n",
       "3        NaN        NaN        NaN  2491         0.0         0.0        0.00   \n",
       "4        NaN        NaN        NaN  1526         0.0         0.0        0.00   \n",
       "\n",
       "   sep_vbc_3g  \n",
       "0        3.58  \n",
       "1        0.00  \n",
       "2        0.00  \n",
       "3        0.00  \n",
       "4        0.00  \n",
       "\n",
       "[5 rows x 226 columns]"
      ]
     },
     "execution_count": 5,
     "metadata": {},
     "output_type": "execute_result"
    }
   ],
   "source": [
    "telecom_churn_data.head()"
   ]
  },
  {
   "cell_type": "code",
   "execution_count": 6,
   "metadata": {},
   "outputs": [
    {
     "data": {
      "text/plain": [
       "(99999, 226)"
      ]
     },
     "execution_count": 6,
     "metadata": {},
     "output_type": "execute_result"
    }
   ],
   "source": [
    "telecom_churn_data.shape"
   ]
  },
  {
   "cell_type": "markdown",
   "metadata": {},
   "source": [
    "# Data Preparation"
   ]
  },
  {
   "cell_type": "code",
   "execution_count": 7,
   "metadata": {},
   "outputs": [],
   "source": [
    "#Rename columns\n",
    "telecom_churn_data.rename(columns={'jun_vbc_3g':'vbc_3g_6','jul_vbc_3g':'vbc_3g_7',\\\n",
    "                                   'aug_vbc_3g':'vbc_3g_8','sep_vbc_3g':'vbc_3g_9'},inplace=True)"
   ]
  },
  {
   "cell_type": "markdown",
   "metadata": {},
   "source": [
    "## Identify high value customers"
   ]
  },
  {
   "cell_type": "markdown",
   "metadata": {},
   "source": [
    "\n",
    "---\n",
    "\n",
    "\n",
    "Now, we will have to calculate average total recharge amount. For this we have to \n",
    "\n",
    "1.   Calculate average of recharge amount from month June and July. \n",
    "2.   Calculate 70th percentile of average total recharge amount calculated in step 1\n",
    "3.   Select only those customers records those have average recharge amount > 70th percentile value calculated in step 2 \n",
    "\n",
    "\n",
    "---"
   ]
  },
  {
   "cell_type": "code",
   "execution_count": 8,
   "metadata": {},
   "outputs": [
    {
     "data": {
      "text/plain": [
       "['total_og_mou_6',\n",
       " 'total_og_mou_7',\n",
       " 'total_og_mou_8',\n",
       " 'total_og_mou_9',\n",
       " 'total_ic_mou_6',\n",
       " 'total_ic_mou_7',\n",
       " 'total_ic_mou_8',\n",
       " 'total_ic_mou_9',\n",
       " 'total_rech_num_6',\n",
       " 'total_rech_num_7',\n",
       " 'total_rech_num_8',\n",
       " 'total_rech_num_9',\n",
       " 'total_rech_amt_6',\n",
       " 'total_rech_amt_7',\n",
       " 'total_rech_amt_8',\n",
       " 'total_rech_amt_9',\n",
       " 'total_rech_data_6',\n",
       " 'total_rech_data_7',\n",
       " 'total_rech_data_8',\n",
       " 'total_rech_data_9']"
      ]
     },
     "execution_count": 8,
     "metadata": {},
     "output_type": "execute_result"
    }
   ],
   "source": [
    "[col for col in telecom_churn_data.columns if 'total' in col]"
   ]
  },
  {
   "cell_type": "code",
   "execution_count": 9,
   "metadata": {},
   "outputs": [],
   "source": [
    "#Derive Total Data Recharge Amounts\n",
    "telecom_churn_data[\"total_rech_data_amt_6\"] = telecom_churn_data[\"total_rech_data_6\"]  * telecom_churn_data['av_rech_amt_data_6']\n",
    "telecom_churn_data[\"total_rech_data_amt_7\"] = telecom_churn_data[\"total_rech_data_7\"]  * telecom_churn_data['av_rech_amt_data_7']\n",
    "telecom_churn_data[\"total_rech_data_amt_8\"] = telecom_churn_data[\"total_rech_data_8\"]  * telecom_churn_data['av_rech_amt_data_8']\n",
    "telecom_churn_data[\"total_rech_data_amt_9\"] = telecom_churn_data[\"total_rech_data_9\"]  * telecom_churn_data['av_rech_amt_data_9']"
   ]
  },
  {
   "cell_type": "code",
   "execution_count": 10,
   "metadata": {},
   "outputs": [
    {
     "name": "stdout",
     "output_type": "stream",
     "text": [
      "------------------------------------------------------------------------------------------\n",
      "Dropped columns : ['total_rech_data_6', 'total_rech_data_7', 'total_rech_data_8', 'total_rech_data_9', 'av_rech_amt_data_6', 'av_rech_amt_data_7', 'av_rech_amt_data_8', 'av_rech_amt_data_9']\n",
      "------------------------------------------------------------------------------------------\n"
     ]
    }
   ],
   "source": [
    "# Drop total_rech_data_* and av_rech_amt_data_*\n",
    "drop_col = [\"total_rech_data_6\", \"total_rech_data_7\", \"total_rech_data_8\", \"total_rech_data_9\", \n",
    "                'av_rech_amt_data_6', 'av_rech_amt_data_7', 'av_rech_amt_data_8', 'av_rech_amt_data_9']\n",
    "telecom_churn_data.drop(drop_col, axis=1, inplace=True)\n",
    "print(\"--\"*45)\n",
    "print(\"Dropped columns :\",drop_col)\n",
    "print(\"--\"*45)"
   ]
  },
  {
   "cell_type": "code",
   "execution_count": 11,
   "metadata": {},
   "outputs": [
    {
     "name": "stdout",
     "output_type": "stream",
     "text": [
      "70 percentile of 6th and 7th months avg recharge amount:  478.0\n",
      "Dataframe Shape after Filtering HIgh Value Customers:  (30001, 222)\n"
     ]
    }
   ],
   "source": [
    "#Average of Recharge Amount in 6th and 7th Month\n",
    "av_rech_amt_6n7 = (telecom_churn_data[\"total_rech_amt_6\"].fillna(0) + telecom_churn_data[\"total_rech_data_amt_6\"].fillna(0) + \n",
    "telecom_churn_data[\"total_rech_amt_7\"].fillna(0) + telecom_churn_data[\"total_rech_data_amt_7\"].fillna(0))/2.0\n",
    "\n",
    "#70th Percentile of Avg Recharge Amount\n",
    "Q70 = np.percentile(av_rech_amt_6n7, 70.0)\n",
    "print('70 percentile of 6th and 7th months avg recharge amount: ', Q70)\n",
    "\n",
    "telecom_churn_data = telecom_churn_data[av_rech_amt_6n7 >= Q70]\n",
    "print('Dataframe Shape after Filtering HIgh Value Customers: ', telecom_churn_data.shape)"
   ]
  },
  {
   "cell_type": "markdown",
   "metadata": {},
   "source": [
    "# Data cleaning and EDA"
   ]
  },
  {
   "cell_type": "code",
   "execution_count": 12,
   "metadata": {},
   "outputs": [
    {
     "data": {
      "text/html": [
       "<div>\n",
       "<style scoped>\n",
       "    .dataframe tbody tr th:only-of-type {\n",
       "        vertical-align: middle;\n",
       "    }\n",
       "\n",
       "    .dataframe tbody tr th {\n",
       "        vertical-align: top;\n",
       "    }\n",
       "\n",
       "    .dataframe thead th {\n",
       "        text-align: right;\n",
       "    }\n",
       "</style>\n",
       "<table border=\"1\" class=\"dataframe\">\n",
       "  <thead>\n",
       "    <tr style=\"text-align: right;\">\n",
       "      <th></th>\n",
       "      <th>circle_id</th>\n",
       "      <th>loc_og_t2o_mou</th>\n",
       "      <th>std_og_t2o_mou</th>\n",
       "      <th>loc_ic_t2o_mou</th>\n",
       "      <th>last_date_of_month_6</th>\n",
       "      <th>last_date_of_month_7</th>\n",
       "      <th>last_date_of_month_8</th>\n",
       "      <th>last_date_of_month_9</th>\n",
       "      <th>std_og_t2c_mou_6</th>\n",
       "      <th>std_og_t2c_mou_7</th>\n",
       "      <th>std_og_t2c_mou_8</th>\n",
       "      <th>std_og_t2c_mou_9</th>\n",
       "      <th>std_ic_t2o_mou_6</th>\n",
       "      <th>std_ic_t2o_mou_7</th>\n",
       "      <th>std_ic_t2o_mou_8</th>\n",
       "      <th>std_ic_t2o_mou_9</th>\n",
       "    </tr>\n",
       "  </thead>\n",
       "  <tbody>\n",
       "    <tr>\n",
       "      <th>0</th>\n",
       "      <td>109</td>\n",
       "      <td>0.0</td>\n",
       "      <td>0.0</td>\n",
       "      <td>0.0</td>\n",
       "      <td>6/30/2014</td>\n",
       "      <td>7/31/2014</td>\n",
       "      <td>8/31/2014</td>\n",
       "      <td>9/30/2014</td>\n",
       "      <td>NaN</td>\n",
       "      <td>NaN</td>\n",
       "      <td>0.0</td>\n",
       "      <td>NaN</td>\n",
       "      <td>NaN</td>\n",
       "      <td>NaN</td>\n",
       "      <td>0.0</td>\n",
       "      <td>NaN</td>\n",
       "    </tr>\n",
       "    <tr>\n",
       "      <th>7</th>\n",
       "      <td>109</td>\n",
       "      <td>0.0</td>\n",
       "      <td>0.0</td>\n",
       "      <td>0.0</td>\n",
       "      <td>6/30/2014</td>\n",
       "      <td>7/31/2014</td>\n",
       "      <td>8/31/2014</td>\n",
       "      <td>9/30/2014</td>\n",
       "      <td>0.0</td>\n",
       "      <td>0.0</td>\n",
       "      <td>0.0</td>\n",
       "      <td>NaN</td>\n",
       "      <td>0.0</td>\n",
       "      <td>0.0</td>\n",
       "      <td>0.0</td>\n",
       "      <td>NaN</td>\n",
       "    </tr>\n",
       "    <tr>\n",
       "      <th>8</th>\n",
       "      <td>109</td>\n",
       "      <td>0.0</td>\n",
       "      <td>0.0</td>\n",
       "      <td>0.0</td>\n",
       "      <td>6/30/2014</td>\n",
       "      <td>7/31/2014</td>\n",
       "      <td>8/31/2014</td>\n",
       "      <td>9/30/2014</td>\n",
       "      <td>0.0</td>\n",
       "      <td>0.0</td>\n",
       "      <td>0.0</td>\n",
       "      <td>0.0</td>\n",
       "      <td>0.0</td>\n",
       "      <td>0.0</td>\n",
       "      <td>0.0</td>\n",
       "      <td>0.0</td>\n",
       "    </tr>\n",
       "    <tr>\n",
       "      <th>21</th>\n",
       "      <td>109</td>\n",
       "      <td>0.0</td>\n",
       "      <td>0.0</td>\n",
       "      <td>0.0</td>\n",
       "      <td>6/30/2014</td>\n",
       "      <td>7/31/2014</td>\n",
       "      <td>8/31/2014</td>\n",
       "      <td>9/30/2014</td>\n",
       "      <td>0.0</td>\n",
       "      <td>0.0</td>\n",
       "      <td>0.0</td>\n",
       "      <td>0.0</td>\n",
       "      <td>0.0</td>\n",
       "      <td>0.0</td>\n",
       "      <td>0.0</td>\n",
       "      <td>0.0</td>\n",
       "    </tr>\n",
       "    <tr>\n",
       "      <th>23</th>\n",
       "      <td>109</td>\n",
       "      <td>0.0</td>\n",
       "      <td>0.0</td>\n",
       "      <td>0.0</td>\n",
       "      <td>6/30/2014</td>\n",
       "      <td>7/31/2014</td>\n",
       "      <td>8/31/2014</td>\n",
       "      <td>9/30/2014</td>\n",
       "      <td>0.0</td>\n",
       "      <td>0.0</td>\n",
       "      <td>0.0</td>\n",
       "      <td>0.0</td>\n",
       "      <td>0.0</td>\n",
       "      <td>0.0</td>\n",
       "      <td>0.0</td>\n",
       "      <td>0.0</td>\n",
       "    </tr>\n",
       "  </tbody>\n",
       "</table>\n",
       "</div>"
      ],
      "text/plain": [
       "    circle_id  loc_og_t2o_mou  std_og_t2o_mou  loc_ic_t2o_mou  \\\n",
       "0         109             0.0             0.0             0.0   \n",
       "7         109             0.0             0.0             0.0   \n",
       "8         109             0.0             0.0             0.0   \n",
       "21        109             0.0             0.0             0.0   \n",
       "23        109             0.0             0.0             0.0   \n",
       "\n",
       "   last_date_of_month_6 last_date_of_month_7 last_date_of_month_8  \\\n",
       "0             6/30/2014            7/31/2014            8/31/2014   \n",
       "7             6/30/2014            7/31/2014            8/31/2014   \n",
       "8             6/30/2014            7/31/2014            8/31/2014   \n",
       "21            6/30/2014            7/31/2014            8/31/2014   \n",
       "23            6/30/2014            7/31/2014            8/31/2014   \n",
       "\n",
       "   last_date_of_month_9  std_og_t2c_mou_6  std_og_t2c_mou_7  std_og_t2c_mou_8  \\\n",
       "0             9/30/2014               NaN               NaN               0.0   \n",
       "7             9/30/2014               0.0               0.0               0.0   \n",
       "8             9/30/2014               0.0               0.0               0.0   \n",
       "21            9/30/2014               0.0               0.0               0.0   \n",
       "23            9/30/2014               0.0               0.0               0.0   \n",
       "\n",
       "    std_og_t2c_mou_9  std_ic_t2o_mou_6  std_ic_t2o_mou_7  std_ic_t2o_mou_8  \\\n",
       "0                NaN               NaN               NaN               0.0   \n",
       "7                NaN               0.0               0.0               0.0   \n",
       "8                0.0               0.0               0.0               0.0   \n",
       "21               0.0               0.0               0.0               0.0   \n",
       "23               0.0               0.0               0.0               0.0   \n",
       "\n",
       "    std_ic_t2o_mou_9  \n",
       "0                NaN  \n",
       "7                NaN  \n",
       "8                0.0  \n",
       "21               0.0  \n",
       "23               0.0  "
      ]
     },
     "execution_count": 12,
     "metadata": {},
     "output_type": "execute_result"
    }
   ],
   "source": [
    "#Remove Data which has only 1 unique Value\n",
    "\n",
    "#List of columns with only 1 unqiue value\n",
    "col_list = telecom_churn_data.loc[:,telecom_churn_data.apply(pd.Series.nunique) == 1]\n",
    "col_list.head(5)"
   ]
  },
  {
   "cell_type": "code",
   "execution_count": 13,
   "metadata": {},
   "outputs": [
    {
     "data": {
      "text/plain": [
       "(30001, 206)"
      ]
     },
     "execution_count": 13,
     "metadata": {},
     "output_type": "execute_result"
    }
   ],
   "source": [
    "#Remove Columns with only 1 unique value\n",
    "telecom_churn_data = telecom_churn_data.loc[:,telecom_churn_data.apply(pd.Series.nunique) != 1]\n",
    "telecom_churn_data.shape"
   ]
  },
  {
   "cell_type": "code",
   "execution_count": 14,
   "metadata": {},
   "outputs": [
    {
     "data": {
      "text/plain": [
       "(30001, 206)"
      ]
     },
     "execution_count": 14,
     "metadata": {},
     "output_type": "execute_result"
    }
   ],
   "source": [
    "#Checking object columns\n",
    "telecom_churn_data_obj_cols = telecom_churn_data.select_dtypes(include=['object'])\n",
    "\n",
    "# convert to datetime\n",
    "for col in telecom_churn_data_obj_cols.columns:\n",
    "    telecom_churn_data[col] = pd.to_datetime(telecom_churn_data[col])\n",
    "\n",
    "telecom_churn_data.shape"
   ]
  },
  {
   "cell_type": "code",
   "execution_count": 15,
   "metadata": {},
   "outputs": [],
   "source": [
    "def check_missing_values(df):\n",
    "    missing_value_pct = df.isnull().sum()/df.shape[0]*100\n",
    "    missing_value_df = pd.DataFrame(missing_value_pct).reset_index()\n",
    "    missing_value_df.columns = [\"Feature\",\"MissingValuePct\"]\n",
    "    missing_value_df = missing_value_df[missing_value_df.MissingValuePct>0]\n",
    "    #print(missing_value_df.sort_values(by='MissingValuePct',ascending=False))\n",
    "    missing_value_df = missing_value_df.sort_values(by='MissingValuePct',ascending=False)  \n",
    "    return missing_value_df   "
   ]
  },
  {
   "cell_type": "code",
   "execution_count": 16,
   "metadata": {},
   "outputs": [
    {
     "data": {
      "text/plain": [
       "array(['total_rech_data_amt_9', 'arpu_2g_9', 'date_of_last_rech_data_9',\n",
       "       'max_rech_data_9', 'fb_user_9', 'count_rech_2g_9',\n",
       "       'count_rech_3g_9', 'arpu_3g_9', 'night_pck_user_9',\n",
       "       'date_of_last_rech_data_8', 'max_rech_data_8', 'count_rech_2g_8',\n",
       "       'count_rech_3g_8', 'arpu_2g_8', 'arpu_3g_8',\n",
       "       'total_rech_data_amt_8', 'night_pck_user_8', 'fb_user_8',\n",
       "       'count_rech_3g_6', 'arpu_3g_6', 'max_rech_data_6',\n",
       "       'total_rech_data_amt_6', 'count_rech_2g_6', 'night_pck_user_6',\n",
       "       'fb_user_6', 'date_of_last_rech_data_6', 'arpu_2g_6',\n",
       "       'count_rech_2g_7', 'date_of_last_rech_data_7', 'night_pck_user_7',\n",
       "       'max_rech_data_7', 'total_rech_data_amt_7', 'arpu_2g_7',\n",
       "       'arpu_3g_7', 'count_rech_3g_7', 'fb_user_7'], dtype=object)"
      ]
     },
     "execution_count": 16,
     "metadata": {},
     "output_type": "execute_result"
    }
   ],
   "source": [
    "missing_values_df = check_missing_values(telecom_churn_data)\n",
    "missing_values_df[missing_values_df.MissingValuePct>30]['Feature'].unique()"
   ]
  },
  {
   "cell_type": "code",
   "execution_count": 17,
   "metadata": {},
   "outputs": [
    {
     "data": {
      "text/plain": [
       "(30001, 170)"
      ]
     },
     "execution_count": 17,
     "metadata": {},
     "output_type": "execute_result"
    }
   ],
   "source": [
    "# Drop columns with more than 30% missing values\n",
    "telecom_churn_data.drop(missing_values_df[missing_values_df.MissingValuePct>30]['Feature'].unique(), axis=1, inplace=True)\n",
    "telecom_churn_data.shape"
   ]
  },
  {
   "cell_type": "code",
   "execution_count": 18,
   "metadata": {},
   "outputs": [
    {
     "data": {
      "text/html": [
       "<div>\n",
       "<style scoped>\n",
       "    .dataframe tbody tr th:only-of-type {\n",
       "        vertical-align: middle;\n",
       "    }\n",
       "\n",
       "    .dataframe tbody tr th {\n",
       "        vertical-align: top;\n",
       "    }\n",
       "\n",
       "    .dataframe thead th {\n",
       "        text-align: right;\n",
       "    }\n",
       "</style>\n",
       "<table border=\"1\" class=\"dataframe\">\n",
       "  <thead>\n",
       "    <tr style=\"text-align: right;\">\n",
       "      <th></th>\n",
       "      <th>Feature</th>\n",
       "      <th>MissingValuePct</th>\n",
       "    </tr>\n",
       "  </thead>\n",
       "  <tbody>\n",
       "    <tr>\n",
       "      <th>76</th>\n",
       "      <td>loc_ic_t2t_mou_9</td>\n",
       "      <td>6.336455</td>\n",
       "    </tr>\n",
       "    <tr>\n",
       "      <th>96</th>\n",
       "      <td>std_ic_t2m_mou_9</td>\n",
       "      <td>6.336455</td>\n",
       "    </tr>\n",
       "    <tr>\n",
       "      <th>28</th>\n",
       "      <td>loc_og_t2m_mou_9</td>\n",
       "      <td>6.336455</td>\n",
       "    </tr>\n",
       "    <tr>\n",
       "      <th>104</th>\n",
       "      <td>std_ic_mou_9</td>\n",
       "      <td>6.336455</td>\n",
       "    </tr>\n",
       "    <tr>\n",
       "      <th>64</th>\n",
       "      <td>spl_og_mou_9</td>\n",
       "      <td>6.336455</td>\n",
       "    </tr>\n",
       "    <tr>\n",
       "      <th>100</th>\n",
       "      <td>std_ic_t2f_mou_9</td>\n",
       "      <td>6.336455</td>\n",
       "    </tr>\n",
       "    <tr>\n",
       "      <th>36</th>\n",
       "      <td>loc_og_t2c_mou_9</td>\n",
       "      <td>6.336455</td>\n",
       "    </tr>\n",
       "    <tr>\n",
       "      <th>40</th>\n",
       "      <td>loc_og_mou_9</td>\n",
       "      <td>6.336455</td>\n",
       "    </tr>\n",
       "    <tr>\n",
       "      <th>44</th>\n",
       "      <td>std_og_t2t_mou_9</td>\n",
       "      <td>6.336455</td>\n",
       "    </tr>\n",
       "    <tr>\n",
       "      <th>24</th>\n",
       "      <td>loc_og_t2t_mou_9</td>\n",
       "      <td>6.336455</td>\n",
       "    </tr>\n",
       "    <tr>\n",
       "      <th>92</th>\n",
       "      <td>std_ic_t2t_mou_9</td>\n",
       "      <td>6.336455</td>\n",
       "    </tr>\n",
       "    <tr>\n",
       "      <th>48</th>\n",
       "      <td>std_og_t2m_mou_9</td>\n",
       "      <td>6.336455</td>\n",
       "    </tr>\n",
       "    <tr>\n",
       "      <th>52</th>\n",
       "      <td>std_og_t2f_mou_9</td>\n",
       "      <td>6.336455</td>\n",
       "    </tr>\n",
       "    <tr>\n",
       "      <th>88</th>\n",
       "      <td>loc_ic_mou_9</td>\n",
       "      <td>6.336455</td>\n",
       "    </tr>\n",
       "    <tr>\n",
       "      <th>56</th>\n",
       "      <td>std_og_mou_9</td>\n",
       "      <td>6.336455</td>\n",
       "    </tr>\n",
       "    <tr>\n",
       "      <th>60</th>\n",
       "      <td>isd_og_mou_9</td>\n",
       "      <td>6.336455</td>\n",
       "    </tr>\n",
       "    <tr>\n",
       "      <th>80</th>\n",
       "      <td>loc_ic_t2m_mou_9</td>\n",
       "      <td>6.336455</td>\n",
       "    </tr>\n",
       "    <tr>\n",
       "      <th>32</th>\n",
       "      <td>loc_og_t2f_mou_9</td>\n",
       "      <td>6.336455</td>\n",
       "    </tr>\n",
       "    <tr>\n",
       "      <th>84</th>\n",
       "      <td>loc_ic_t2f_mou_9</td>\n",
       "      <td>6.336455</td>\n",
       "    </tr>\n",
       "    <tr>\n",
       "      <th>16</th>\n",
       "      <td>roam_ic_mou_9</td>\n",
       "      <td>6.336455</td>\n",
       "    </tr>\n",
       "    <tr>\n",
       "      <th>112</th>\n",
       "      <td>spl_ic_mou_9</td>\n",
       "      <td>6.336455</td>\n",
       "    </tr>\n",
       "    <tr>\n",
       "      <th>8</th>\n",
       "      <td>onnet_mou_9</td>\n",
       "      <td>6.336455</td>\n",
       "    </tr>\n",
       "    <tr>\n",
       "      <th>20</th>\n",
       "      <td>roam_og_mou_9</td>\n",
       "      <td>6.336455</td>\n",
       "    </tr>\n",
       "    <tr>\n",
       "      <th>12</th>\n",
       "      <td>offnet_mou_9</td>\n",
       "      <td>6.336455</td>\n",
       "    </tr>\n",
       "    <tr>\n",
       "      <th>68</th>\n",
       "      <td>og_others_9</td>\n",
       "      <td>6.336455</td>\n",
       "    </tr>\n",
       "    <tr>\n",
       "      <th>120</th>\n",
       "      <td>ic_others_9</td>\n",
       "      <td>6.336455</td>\n",
       "    </tr>\n",
       "    <tr>\n",
       "      <th>116</th>\n",
       "      <td>isd_ic_mou_9</td>\n",
       "      <td>6.336455</td>\n",
       "    </tr>\n",
       "    <tr>\n",
       "      <th>63</th>\n",
       "      <td>spl_og_mou_8</td>\n",
       "      <td>3.913203</td>\n",
       "    </tr>\n",
       "    <tr>\n",
       "      <th>47</th>\n",
       "      <td>std_og_t2m_mou_8</td>\n",
       "      <td>3.913203</td>\n",
       "    </tr>\n",
       "    <tr>\n",
       "      <th>11</th>\n",
       "      <td>offnet_mou_8</td>\n",
       "      <td>3.913203</td>\n",
       "    </tr>\n",
       "    <tr>\n",
       "      <th>...</th>\n",
       "      <td>...</td>\n",
       "      <td>...</td>\n",
       "    </tr>\n",
       "    <tr>\n",
       "      <th>33</th>\n",
       "      <td>loc_og_t2c_mou_6</td>\n",
       "      <td>1.816606</td>\n",
       "    </tr>\n",
       "    <tr>\n",
       "      <th>18</th>\n",
       "      <td>roam_og_mou_7</td>\n",
       "      <td>1.789940</td>\n",
       "    </tr>\n",
       "    <tr>\n",
       "      <th>114</th>\n",
       "      <td>isd_ic_mou_7</td>\n",
       "      <td>1.789940</td>\n",
       "    </tr>\n",
       "    <tr>\n",
       "      <th>102</th>\n",
       "      <td>std_ic_mou_7</td>\n",
       "      <td>1.789940</td>\n",
       "    </tr>\n",
       "    <tr>\n",
       "      <th>22</th>\n",
       "      <td>loc_og_t2t_mou_7</td>\n",
       "      <td>1.789940</td>\n",
       "    </tr>\n",
       "    <tr>\n",
       "      <th>14</th>\n",
       "      <td>roam_ic_mou_7</td>\n",
       "      <td>1.789940</td>\n",
       "    </tr>\n",
       "    <tr>\n",
       "      <th>118</th>\n",
       "      <td>ic_others_7</td>\n",
       "      <td>1.789940</td>\n",
       "    </tr>\n",
       "    <tr>\n",
       "      <th>110</th>\n",
       "      <td>spl_ic_mou_7</td>\n",
       "      <td>1.789940</td>\n",
       "    </tr>\n",
       "    <tr>\n",
       "      <th>26</th>\n",
       "      <td>loc_og_t2m_mou_7</td>\n",
       "      <td>1.789940</td>\n",
       "    </tr>\n",
       "    <tr>\n",
       "      <th>10</th>\n",
       "      <td>offnet_mou_7</td>\n",
       "      <td>1.789940</td>\n",
       "    </tr>\n",
       "    <tr>\n",
       "      <th>30</th>\n",
       "      <td>loc_og_t2f_mou_7</td>\n",
       "      <td>1.789940</td>\n",
       "    </tr>\n",
       "    <tr>\n",
       "      <th>74</th>\n",
       "      <td>loc_ic_t2t_mou_7</td>\n",
       "      <td>1.789940</td>\n",
       "    </tr>\n",
       "    <tr>\n",
       "      <th>34</th>\n",
       "      <td>loc_og_t2c_mou_7</td>\n",
       "      <td>1.789940</td>\n",
       "    </tr>\n",
       "    <tr>\n",
       "      <th>86</th>\n",
       "      <td>loc_ic_mou_7</td>\n",
       "      <td>1.789940</td>\n",
       "    </tr>\n",
       "    <tr>\n",
       "      <th>78</th>\n",
       "      <td>loc_ic_t2m_mou_7</td>\n",
       "      <td>1.789940</td>\n",
       "    </tr>\n",
       "    <tr>\n",
       "      <th>66</th>\n",
       "      <td>og_others_7</td>\n",
       "      <td>1.789940</td>\n",
       "    </tr>\n",
       "    <tr>\n",
       "      <th>62</th>\n",
       "      <td>spl_og_mou_7</td>\n",
       "      <td>1.789940</td>\n",
       "    </tr>\n",
       "    <tr>\n",
       "      <th>82</th>\n",
       "      <td>loc_ic_t2f_mou_7</td>\n",
       "      <td>1.789940</td>\n",
       "    </tr>\n",
       "    <tr>\n",
       "      <th>6</th>\n",
       "      <td>onnet_mou_7</td>\n",
       "      <td>1.789940</td>\n",
       "    </tr>\n",
       "    <tr>\n",
       "      <th>38</th>\n",
       "      <td>loc_og_mou_7</td>\n",
       "      <td>1.789940</td>\n",
       "    </tr>\n",
       "    <tr>\n",
       "      <th>58</th>\n",
       "      <td>isd_og_mou_7</td>\n",
       "      <td>1.789940</td>\n",
       "    </tr>\n",
       "    <tr>\n",
       "      <th>54</th>\n",
       "      <td>std_og_mou_7</td>\n",
       "      <td>1.789940</td>\n",
       "    </tr>\n",
       "    <tr>\n",
       "      <th>50</th>\n",
       "      <td>std_og_t2f_mou_7</td>\n",
       "      <td>1.789940</td>\n",
       "    </tr>\n",
       "    <tr>\n",
       "      <th>90</th>\n",
       "      <td>std_ic_t2t_mou_7</td>\n",
       "      <td>1.789940</td>\n",
       "    </tr>\n",
       "    <tr>\n",
       "      <th>46</th>\n",
       "      <td>std_og_t2m_mou_7</td>\n",
       "      <td>1.789940</td>\n",
       "    </tr>\n",
       "    <tr>\n",
       "      <th>94</th>\n",
       "      <td>std_ic_t2m_mou_7</td>\n",
       "      <td>1.789940</td>\n",
       "    </tr>\n",
       "    <tr>\n",
       "      <th>42</th>\n",
       "      <td>std_og_t2t_mou_7</td>\n",
       "      <td>1.789940</td>\n",
       "    </tr>\n",
       "    <tr>\n",
       "      <th>98</th>\n",
       "      <td>std_ic_t2f_mou_7</td>\n",
       "      <td>1.789940</td>\n",
       "    </tr>\n",
       "    <tr>\n",
       "      <th>134</th>\n",
       "      <td>date_of_last_rech_7</td>\n",
       "      <td>0.326656</td>\n",
       "    </tr>\n",
       "    <tr>\n",
       "      <th>133</th>\n",
       "      <td>date_of_last_rech_6</td>\n",
       "      <td>0.243325</td>\n",
       "    </tr>\n",
       "  </tbody>\n",
       "</table>\n",
       "<p>112 rows × 2 columns</p>\n",
       "</div>"
      ],
      "text/plain": [
       "                 Feature  MissingValuePct\n",
       "76      loc_ic_t2t_mou_9         6.336455\n",
       "96      std_ic_t2m_mou_9         6.336455\n",
       "28      loc_og_t2m_mou_9         6.336455\n",
       "104         std_ic_mou_9         6.336455\n",
       "64          spl_og_mou_9         6.336455\n",
       "100     std_ic_t2f_mou_9         6.336455\n",
       "36      loc_og_t2c_mou_9         6.336455\n",
       "40          loc_og_mou_9         6.336455\n",
       "44      std_og_t2t_mou_9         6.336455\n",
       "24      loc_og_t2t_mou_9         6.336455\n",
       "92      std_ic_t2t_mou_9         6.336455\n",
       "48      std_og_t2m_mou_9         6.336455\n",
       "52      std_og_t2f_mou_9         6.336455\n",
       "88          loc_ic_mou_9         6.336455\n",
       "56          std_og_mou_9         6.336455\n",
       "60          isd_og_mou_9         6.336455\n",
       "80      loc_ic_t2m_mou_9         6.336455\n",
       "32      loc_og_t2f_mou_9         6.336455\n",
       "84      loc_ic_t2f_mou_9         6.336455\n",
       "16         roam_ic_mou_9         6.336455\n",
       "112         spl_ic_mou_9         6.336455\n",
       "8            onnet_mou_9         6.336455\n",
       "20         roam_og_mou_9         6.336455\n",
       "12          offnet_mou_9         6.336455\n",
       "68           og_others_9         6.336455\n",
       "120          ic_others_9         6.336455\n",
       "116         isd_ic_mou_9         6.336455\n",
       "63          spl_og_mou_8         3.913203\n",
       "47      std_og_t2m_mou_8         3.913203\n",
       "11          offnet_mou_8         3.913203\n",
       "..                   ...              ...\n",
       "33      loc_og_t2c_mou_6         1.816606\n",
       "18         roam_og_mou_7         1.789940\n",
       "114         isd_ic_mou_7         1.789940\n",
       "102         std_ic_mou_7         1.789940\n",
       "22      loc_og_t2t_mou_7         1.789940\n",
       "14         roam_ic_mou_7         1.789940\n",
       "118          ic_others_7         1.789940\n",
       "110         spl_ic_mou_7         1.789940\n",
       "26      loc_og_t2m_mou_7         1.789940\n",
       "10          offnet_mou_7         1.789940\n",
       "30      loc_og_t2f_mou_7         1.789940\n",
       "74      loc_ic_t2t_mou_7         1.789940\n",
       "34      loc_og_t2c_mou_7         1.789940\n",
       "86          loc_ic_mou_7         1.789940\n",
       "78      loc_ic_t2m_mou_7         1.789940\n",
       "66           og_others_7         1.789940\n",
       "62          spl_og_mou_7         1.789940\n",
       "82      loc_ic_t2f_mou_7         1.789940\n",
       "6            onnet_mou_7         1.789940\n",
       "38          loc_og_mou_7         1.789940\n",
       "58          isd_og_mou_7         1.789940\n",
       "54          std_og_mou_7         1.789940\n",
       "50      std_og_t2f_mou_7         1.789940\n",
       "90      std_ic_t2t_mou_7         1.789940\n",
       "46      std_og_t2m_mou_7         1.789940\n",
       "94      std_ic_t2m_mou_7         1.789940\n",
       "42      std_og_t2t_mou_7         1.789940\n",
       "98      std_ic_t2f_mou_7         1.789940\n",
       "134  date_of_last_rech_7         0.326656\n",
       "133  date_of_last_rech_6         0.243325\n",
       "\n",
       "[112 rows x 2 columns]"
      ]
     },
     "execution_count": 18,
     "metadata": {},
     "output_type": "execute_result"
    }
   ],
   "source": [
    "missing_values_df = check_missing_values(telecom_churn_data)\n",
    "missing_values_df"
   ]
  },
  {
   "cell_type": "code",
   "execution_count": 19,
   "metadata": {},
   "outputs": [
    {
     "data": {
      "text/plain": [
       "array([dtype('int64'), dtype('float64'), dtype('<M8[ns]')], dtype=object)"
      ]
     },
     "execution_count": 19,
     "metadata": {},
     "output_type": "execute_result"
    }
   ],
   "source": [
    "telecom_churn_data.dtypes.unique()"
   ]
  },
  {
   "cell_type": "code",
   "execution_count": 20,
   "metadata": {},
   "outputs": [
    {
     "name": "stdout",
     "output_type": "stream",
     "text": [
      "\n",
      "------------------------------------------------------------------------------------\n",
      "Categorical Cols : []\n",
      "\n",
      "------------------------------------------------------------------------------------\n",
      "Date Cols : ['date_of_last_rech_6', 'date_of_last_rech_7', 'date_of_last_rech_8', 'date_of_last_rech_9']\n",
      "\n",
      "------------------------------------------------------------------------------------\n",
      "Numerical Cols : ['mobile_number', 'arpu_6', 'arpu_7', 'arpu_8', 'arpu_9', 'onnet_mou_6', 'onnet_mou_7', 'onnet_mou_8', 'onnet_mou_9', 'offnet_mou_6', 'offnet_mou_7', 'offnet_mou_8', 'offnet_mou_9', 'roam_ic_mou_6', 'roam_ic_mou_7', 'roam_ic_mou_8', 'roam_ic_mou_9', 'roam_og_mou_6', 'roam_og_mou_7', 'roam_og_mou_8', 'roam_og_mou_9', 'loc_og_t2t_mou_6', 'loc_og_t2t_mou_7', 'loc_og_t2t_mou_8', 'loc_og_t2t_mou_9', 'loc_og_t2m_mou_6', 'loc_og_t2m_mou_7', 'loc_og_t2m_mou_8', 'loc_og_t2m_mou_9', 'loc_og_t2f_mou_6', 'loc_og_t2f_mou_7', 'loc_og_t2f_mou_8', 'loc_og_t2f_mou_9', 'loc_og_t2c_mou_6', 'loc_og_t2c_mou_7', 'loc_og_t2c_mou_8', 'loc_og_t2c_mou_9', 'loc_og_mou_6', 'loc_og_mou_7', 'loc_og_mou_8', 'loc_og_mou_9', 'std_og_t2t_mou_6', 'std_og_t2t_mou_7', 'std_og_t2t_mou_8', 'std_og_t2t_mou_9', 'std_og_t2m_mou_6', 'std_og_t2m_mou_7', 'std_og_t2m_mou_8', 'std_og_t2m_mou_9', 'std_og_t2f_mou_6', 'std_og_t2f_mou_7', 'std_og_t2f_mou_8', 'std_og_t2f_mou_9', 'std_og_mou_6', 'std_og_mou_7', 'std_og_mou_8', 'std_og_mou_9', 'isd_og_mou_6', 'isd_og_mou_7', 'isd_og_mou_8', 'isd_og_mou_9', 'spl_og_mou_6', 'spl_og_mou_7', 'spl_og_mou_8', 'spl_og_mou_9', 'og_others_6', 'og_others_7', 'og_others_8', 'og_others_9', 'total_og_mou_6', 'total_og_mou_7', 'total_og_mou_8', 'total_og_mou_9', 'loc_ic_t2t_mou_6', 'loc_ic_t2t_mou_7', 'loc_ic_t2t_mou_8', 'loc_ic_t2t_mou_9', 'loc_ic_t2m_mou_6', 'loc_ic_t2m_mou_7', 'loc_ic_t2m_mou_8', 'loc_ic_t2m_mou_9', 'loc_ic_t2f_mou_6', 'loc_ic_t2f_mou_7', 'loc_ic_t2f_mou_8', 'loc_ic_t2f_mou_9', 'loc_ic_mou_6', 'loc_ic_mou_7', 'loc_ic_mou_8', 'loc_ic_mou_9', 'std_ic_t2t_mou_6', 'std_ic_t2t_mou_7', 'std_ic_t2t_mou_8', 'std_ic_t2t_mou_9', 'std_ic_t2m_mou_6', 'std_ic_t2m_mou_7', 'std_ic_t2m_mou_8', 'std_ic_t2m_mou_9', 'std_ic_t2f_mou_6', 'std_ic_t2f_mou_7', 'std_ic_t2f_mou_8', 'std_ic_t2f_mou_9', 'std_ic_mou_6', 'std_ic_mou_7', 'std_ic_mou_8', 'std_ic_mou_9', 'total_ic_mou_6', 'total_ic_mou_7', 'total_ic_mou_8', 'total_ic_mou_9', 'spl_ic_mou_6', 'spl_ic_mou_7', 'spl_ic_mou_8', 'spl_ic_mou_9', 'isd_ic_mou_6', 'isd_ic_mou_7', 'isd_ic_mou_8', 'isd_ic_mou_9', 'ic_others_6', 'ic_others_7', 'ic_others_8', 'ic_others_9', 'total_rech_num_6', 'total_rech_num_7', 'total_rech_num_8', 'total_rech_num_9', 'total_rech_amt_6', 'total_rech_amt_7', 'total_rech_amt_8', 'total_rech_amt_9', 'max_rech_amt_6', 'max_rech_amt_7', 'max_rech_amt_8', 'max_rech_amt_9', 'last_day_rch_amt_6', 'last_day_rch_amt_7', 'last_day_rch_amt_8', 'last_day_rch_amt_9', 'vol_2g_mb_6', 'vol_2g_mb_7', 'vol_2g_mb_8', 'vol_2g_mb_9', 'vol_3g_mb_6', 'vol_3g_mb_7', 'vol_3g_mb_8', 'vol_3g_mb_9', 'monthly_2g_6', 'monthly_2g_7', 'monthly_2g_8', 'monthly_2g_9', 'sachet_2g_6', 'sachet_2g_7', 'sachet_2g_8', 'sachet_2g_9', 'monthly_3g_6', 'monthly_3g_7', 'monthly_3g_8', 'monthly_3g_9', 'sachet_3g_6', 'sachet_3g_7', 'sachet_3g_8', 'sachet_3g_9', 'aon', 'vbc_3g_8', 'vbc_3g_7', 'vbc_3g_6', 'vbc_3g_9']\n",
      "\n",
      "------------------------------------------------------------------------------------\n"
     ]
    }
   ],
   "source": [
    "cat_cols = list(telecom_churn_data.select_dtypes(include='object').columns.values)\n",
    "num_cols = list(telecom_churn_data.select_dtypes(include=np.number).columns.values)\n",
    "date_cols = list(telecom_churn_data.select_dtypes(exclude=['object',np.number]).columns.values)\n",
    "print(\"\")\n",
    "print(\"--\"*42)\n",
    "print(\"Categorical Cols :\",cat_cols)\n",
    "print(\"\")\n",
    "print(\"--\"*42)\n",
    "print(\"Date Cols :\",date_cols)\n",
    "print(\"\")\n",
    "print(\"--\"*42)\n",
    "print(\"Numerical Cols :\",num_cols)\n",
    "print(\"\")\n",
    "print(\"--\"*42)"
   ]
  },
  {
   "cell_type": "code",
   "execution_count": 21,
   "metadata": {},
   "outputs": [],
   "source": [
    "telecom_churn_data[cat_cols] = telecom_churn_data[cat_cols].fillna('0')\n",
    "telecom_churn_data[date_cols] = telecom_churn_data[date_cols].fillna(telecom_churn_data[date_cols].mode())\n",
    "telecom_churn_data[num_cols] = telecom_churn_data[num_cols].fillna(0.0)"
   ]
  },
  {
   "cell_type": "code",
   "execution_count": 22,
   "metadata": {},
   "outputs": [],
   "source": [
    "# Drop remaining rows with missing values\n",
    "telecom_churn_data.dropna(axis=0,inplace=True)"
   ]
  },
  {
   "cell_type": "code",
   "execution_count": 23,
   "metadata": {},
   "outputs": [
    {
     "name": "stdout",
     "output_type": "stream",
     "text": [
      "No more missing values in the dataset!!!\n"
     ]
    }
   ],
   "source": [
    "missing_values = check_missing_values(telecom_churn_data)\n",
    "if missing_values.shape[0] == 0:\n",
    "    print(\"No more missing values in the dataset!!!\")\n",
    "else:\n",
    "    print(missing_values)"
   ]
  },
  {
   "cell_type": "code",
   "execution_count": 24,
   "metadata": {},
   "outputs": [
    {
     "data": {
      "text/plain": [
       "(28757, 170)"
      ]
     },
     "execution_count": 24,
     "metadata": {},
     "output_type": "execute_result"
    }
   ],
   "source": [
    "telecom_churn_data.shape"
   ]
  },
  {
   "cell_type": "markdown",
   "metadata": {},
   "source": [
    "## Tag churners"
   ]
  },
  {
   "cell_type": "code",
   "execution_count": 25,
   "metadata": {},
   "outputs": [],
   "source": [
    "def churn(x):\n",
    "    if (x['total_ic_mou_9'] == 0) & (x['total_og_mou_9'] == 0) & (x['vol_2g_mb_9'] == 0) & (x['vol_3g_mb_9'] == 0):\n",
    "        return 1\n",
    "    else:\n",
    "        return 0\n",
    "telecom_churn_data['churn'] = telecom_churn_data.apply(churn,axis=1)"
   ]
  },
  {
   "cell_type": "code",
   "execution_count": 26,
   "metadata": {},
   "outputs": [],
   "source": [
    "# convert datatype to categorical\n",
    "telecom_churn_data['churn'] = telecom_churn_data['churn'].astype('object')"
   ]
  },
  {
   "cell_type": "code",
   "execution_count": 27,
   "metadata": {},
   "outputs": [
    {
     "name": "stdout",
     "output_type": "stream",
     "text": [
      "No Churn 93.99 % of the dataset\n",
      "Churn 6.01 % of the dataset\n"
     ]
    }
   ],
   "source": [
    "# The classes are heavily skewed we need to solve this issue later.\n",
    "print('No Churn', round(telecom_churn_data['churn'].value_counts()[0]/len(telecom_churn_data) * 100,2), '% of the dataset')\n",
    "print('Churn', round(telecom_churn_data['churn'].value_counts()[1]/len(telecom_churn_data) * 100,2), '% of the dataset')"
   ]
  },
  {
   "cell_type": "code",
   "execution_count": 28,
   "metadata": {},
   "outputs": [
    {
     "data": {
      "image/png": "[encoded data removed]",
      "text/plain": [
       "<Figure size 432x288 with 1 Axes>"
      ]
     },
     "metadata": {
      "needs_background": "light"
     },
     "output_type": "display_data"
    }
   ],
   "source": [
    "sns.countplot('churn', data=telecom_churn_data, palette=['blue','red'])\n",
    "plt.title('Label Distributions \\n (0: No Churn , 1: Churn)', fontsize=14)\n",
    "plt.show()"
   ]
  },
  {
   "cell_type": "markdown",
   "metadata": {},
   "source": [
    "---\n",
    "\n",
    "\n",
    "**Above plot shows that data is highly imbalanced with around 91% of customers classified as non churn.**\n",
    "\n",
    "---\n"
   ]
  },
  {
   "cell_type": "markdown",
   "metadata": {},
   "source": [
    "## Drop columns from churn phase"
   ]
  },
  {
   "cell_type": "code",
   "execution_count": 29,
   "metadata": {},
   "outputs": [],
   "source": [
    "telecom_churn_data.drop(labels= [col for col in telecom_churn_data.columns if '_9' in col] ,axis=1,inplace=True)"
   ]
  },
  {
   "cell_type": "code",
   "execution_count": 30,
   "metadata": {},
   "outputs": [
    {
     "data": {
      "text/plain": [
       "(28757, 129)"
      ]
     },
     "execution_count": 30,
     "metadata": {},
     "output_type": "execute_result"
    }
   ],
   "source": [
    "telecom_churn_data.shape"
   ]
  },
  {
   "cell_type": "markdown",
   "metadata": {},
   "source": [
    "# Derived Metrics"
   ]
  },
  {
   "cell_type": "markdown",
   "metadata": {},
   "source": [
    "Month 6 and 7 belong to \"Good Phase\" and month 8 belong to \"Action Phase\".<br>\n",
    "So, we can average out month 6 and 7 numbers while month 8 values should be kept intact."
   ]
  },
  {
   "cell_type": "code",
   "execution_count": 31,
   "metadata": {},
   "outputs": [
    {
     "data": {
      "text/plain": [
       "Index(['mobile_number', 'arpu_6', 'arpu_7', 'arpu_8', 'onnet_mou_6',\n",
       "       'onnet_mou_7', 'onnet_mou_8', 'offnet_mou_6', 'offnet_mou_7',\n",
       "       'offnet_mou_8',\n",
       "       ...\n",
       "       'monthly_3g_6', 'monthly_3g_7', 'monthly_3g_8', 'sachet_3g_6',\n",
       "       'sachet_3g_7', 'sachet_3g_8', 'aon', 'vbc_3g_8', 'vbc_3g_7',\n",
       "       'vbc_3g_6'],\n",
       "      dtype='object', length=125)"
      ]
     },
     "execution_count": 31,
     "metadata": {},
     "output_type": "execute_result"
    }
   ],
   "source": [
    "telecom_churn_data.select_dtypes(include=np.number).columns"
   ]
  },
  {
   "cell_type": "code",
   "execution_count": 32,
   "metadata": {},
   "outputs": [
    {
     "data": {
      "text/plain": [
       "(28757, 170)"
      ]
     },
     "execution_count": 32,
     "metadata": {},
     "output_type": "execute_result"
    }
   ],
   "source": [
    "unique_cols = set()\n",
    "col_list=[]\n",
    "for i in [col for col in telecom_churn_data.select_dtypes(include=np.number).columns if '_6' in col or '_7' in col]:\n",
    "    #print(i[:-2])\n",
    "    unique_cols.add(i[:-2])\n",
    "    col_list.append(i)\n",
    "\n",
    "for col in list(unique_cols):\n",
    "    new_col_name = 'avg_'+col+'_av67'\n",
    "    col_6 = col+'_6'\n",
    "    col_7 = col+'_7'\n",
    "    telecom_churn_data[new_col_name] = (telecom_churn_data[col_6] + telecom_churn_data[col_7])/2.0\n",
    "    \n",
    "telecom_churn_data.shape    \n"
   ]
  },
  {
   "cell_type": "code",
   "execution_count": 33,
   "metadata": {},
   "outputs": [
    {
     "data": {
      "text/plain": [
       "(28757, 88)"
      ]
     },
     "execution_count": 33,
     "metadata": {},
     "output_type": "execute_result"
    }
   ],
   "source": [
    "telecom_churn_data.drop(columns=col_list,axis=1,inplace=True)\n",
    "telecom_churn_data.shape"
   ]
  },
  {
   "cell_type": "code",
   "execution_count": 34,
   "metadata": {},
   "outputs": [
    {
     "data": {
      "text/plain": [
       "0     32.266667\n",
       "7     26.733333\n",
       "8     10.500000\n",
       "21    24.000000\n",
       "23    20.133333\n",
       "Name: aon_months, dtype: float64"
      ]
     },
     "execution_count": 34,
     "metadata": {},
     "output_type": "execute_result"
    }
   ],
   "source": [
    "#Conevrt AON in Months\n",
    "telecom_churn_data['aon_months'] = telecom_churn_data['aon']/30\n",
    "telecom_churn_data.drop('aon', axis=1, inplace=True)\n",
    "telecom_churn_data['aon_months'].head()"
   ]
  },
  {
   "cell_type": "code",
   "execution_count": 35,
   "metadata": {},
   "outputs": [
    {
     "name": "stdout",
     "output_type": "stream",
     "text": [
      "No Churn 93.99 % of the dataset\n",
      "Churn 6.01 % of the dataset\n"
     ]
    },
    {
     "data": {
      "image/png": "[encoded data removed]",
      "text/plain": [
       "<Figure size 432x288 with 1 Axes>"
      ]
     },
     "metadata": {
      "needs_background": "light"
     },
     "output_type": "display_data"
    }
   ],
   "source": [
    "# churn Distribution on remaining data\n",
    "print('No Churn', round(telecom_churn_data['churn'].value_counts()[0]/len(telecom_churn_data) * 100,2), '% of the dataset')\n",
    "print('Churn', round(telecom_churn_data['churn'].value_counts()[1]/len(telecom_churn_data) * 100,2), '% of the dataset')\n",
    "\n",
    "sns.countplot('churn', data=telecom_churn_data, palette=['blue','red'])\n",
    "plt.title('Label Distributions \\n (0: No Churn , 1: Churn)', fontsize=14)\n",
    "plt.show()"
   ]
  },
  {
   "cell_type": "code",
   "execution_count": 36,
   "metadata": {},
   "outputs": [
    {
     "name": "stdout",
     "output_type": "stream",
     "text": [
      "\n",
      "------------------------------------------------------------------------------------\n",
      "Categorical Cols : ['churn']\n",
      "\n",
      "------------------------------------------------------------------------------------\n",
      "Date Cols : ['date_of_last_rech_6', 'date_of_last_rech_7', 'date_of_last_rech_8']\n",
      "\n",
      "------------------------------------------------------------------------------------\n",
      "Numerical Cols : ['mobile_number', 'arpu_8', 'onnet_mou_8', 'offnet_mou_8', 'roam_ic_mou_8', 'roam_og_mou_8', 'loc_og_t2t_mou_8', 'loc_og_t2m_mou_8', 'loc_og_t2f_mou_8', 'loc_og_t2c_mou_8', 'loc_og_mou_8', 'std_og_t2t_mou_8', 'std_og_t2m_mou_8', 'std_og_t2f_mou_8', 'std_og_mou_8', 'isd_og_mou_8', 'spl_og_mou_8', 'og_others_8', 'total_og_mou_8', 'loc_ic_t2t_mou_8', 'loc_ic_t2m_mou_8', 'loc_ic_t2f_mou_8', 'loc_ic_mou_8', 'std_ic_t2t_mou_8', 'std_ic_t2m_mou_8', 'std_ic_t2f_mou_8', 'std_ic_mou_8', 'total_ic_mou_8', 'spl_ic_mou_8', 'isd_ic_mou_8', 'ic_others_8', 'total_rech_num_8', 'total_rech_amt_8', 'max_rech_amt_8', 'last_day_rch_amt_8', 'vol_2g_mb_8', 'vol_3g_mb_8', 'monthly_2g_8', 'sachet_2g_8', 'monthly_3g_8', 'sachet_3g_8', 'vbc_3g_8', 'avg_monthly_2g_av67', 'avg_roam_ic_mou_av67', 'avg_total_rech_num_av67', 'avg_monthly_3g_av67', 'avg_max_rech_amt_av67', 'avg_loc_og_t2m_mou_av67', 'avg_arpu_av67', 'avg_spl_ic_mou_av67', 'avg_std_og_t2m_mou_av67', 'avg_total_rech_amt_av67', 'avg_offnet_mou_av67', 'avg_loc_ic_t2t_mou_av67', 'avg_total_ic_mou_av67', 'avg_std_og_t2f_mou_av67', 'avg_vbc_3g_av67', 'avg_isd_og_mou_av67', 'avg_last_day_rch_amt_av67', 'avg_sachet_2g_av67', 'avg_loc_og_t2f_mou_av67', 'avg_total_og_mou_av67', 'avg_std_og_mou_av67', 'avg_loc_og_t2t_mou_av67', 'avg_std_og_t2t_mou_av67', 'avg_loc_og_t2c_mou_av67', 'avg_onnet_mou_av67', 'avg_roam_og_mou_av67', 'avg_og_others_av67', 'avg_vol_3g_mb_av67', 'avg_ic_others_av67', 'avg_isd_ic_mou_av67', 'avg_std_ic_t2t_mou_av67', 'avg_std_ic_mou_av67', 'avg_std_ic_t2m_mou_av67', 'avg_loc_ic_t2m_mou_av67', 'avg_vol_2g_mb_av67', 'avg_spl_og_mou_av67', 'avg_loc_ic_mou_av67', 'avg_std_ic_t2f_mou_av67', 'avg_loc_og_mou_av67', 'avg_loc_ic_t2f_mou_av67', 'avg_sachet_3g_av67', 'aon_months']\n",
      "\n",
      "------------------------------------------------------------------------------------\n",
      "Wall time: 365 ms\n"
     ]
    }
   ],
   "source": [
    "%%time\n",
    "cat_cols = list(telecom_churn_data.select_dtypes(include='object').columns.values)\n",
    "num_cols = list(telecom_churn_data.select_dtypes(include=np.number).columns.values)\n",
    "date_cols = list(telecom_churn_data.select_dtypes(exclude=['object',np.number]).columns.values)\n",
    "print(\"\")\n",
    "print(\"--\"*42)\n",
    "print(\"Categorical Cols :\",cat_cols)\n",
    "print(\"\")\n",
    "print(\"--\"*42)\n",
    "print(\"Date Cols :\",date_cols)\n",
    "print(\"\")\n",
    "print(\"--\"*42)\n",
    "print(\"Numerical Cols :\",num_cols)\n",
    "print(\"\")\n",
    "print(\"--\"*42)"
   ]
  },
  {
   "cell_type": "code",
   "execution_count": 37,
   "metadata": {},
   "outputs": [],
   "source": [
    "# Drop mobile number column\n",
    "del telecom_churn_data['mobile_number']"
   ]
  },
  {
   "cell_type": "markdown",
   "metadata": {},
   "source": [
    "# Feature scaling"
   ]
  },
  {
   "cell_type": "code",
   "execution_count": 38,
   "metadata": {},
   "outputs": [],
   "source": [
    "from sklearn.preprocessing import StandardScaler, RobustScaler\n",
    "\n",
    "# RobustScaler is less prone to outliers.\n",
    "\n",
    "rob_scaler = RobustScaler()\n",
    "\n",
    "col_list = telecom_churn_data.select_dtypes(exclude='object').columns\n",
    "\n",
    "for col in col_list:\n",
    "  telecom_churn_data[col] = rob_scaler.fit_transform(telecom_churn_data[col].values.reshape(-1,1))"
   ]
  },
  {
   "cell_type": "code",
   "execution_count": 39,
   "metadata": {},
   "outputs": [
    {
     "data": {
      "text/html": [
       "<div>\n",
       "<style scoped>\n",
       "    .dataframe tbody tr th:only-of-type {\n",
       "        vertical-align: middle;\n",
       "    }\n",
       "\n",
       "    .dataframe tbody tr th {\n",
       "        vertical-align: top;\n",
       "    }\n",
       "\n",
       "    .dataframe thead th {\n",
       "        text-align: right;\n",
       "    }\n",
       "</style>\n",
       "<table border=\"1\" class=\"dataframe\">\n",
       "  <thead>\n",
       "    <tr style=\"text-align: right;\">\n",
       "      <th></th>\n",
       "      <th>arpu_8</th>\n",
       "      <th>onnet_mou_8</th>\n",
       "      <th>offnet_mou_8</th>\n",
       "      <th>roam_ic_mou_8</th>\n",
       "      <th>roam_og_mou_8</th>\n",
       "      <th>loc_og_t2t_mou_8</th>\n",
       "      <th>loc_og_t2m_mou_8</th>\n",
       "      <th>loc_og_t2f_mou_8</th>\n",
       "      <th>loc_og_t2c_mou_8</th>\n",
       "      <th>loc_og_mou_8</th>\n",
       "      <th>...</th>\n",
       "      <th>avg_std_ic_t2m_mou_av67</th>\n",
       "      <th>avg_loc_ic_t2m_mou_av67</th>\n",
       "      <th>avg_vol_2g_mb_av67</th>\n",
       "      <th>avg_spl_og_mou_av67</th>\n",
       "      <th>avg_loc_ic_mou_av67</th>\n",
       "      <th>avg_std_ic_t2f_mou_av67</th>\n",
       "      <th>avg_loc_og_mou_av67</th>\n",
       "      <th>avg_loc_ic_t2f_mou_av67</th>\n",
       "      <th>avg_sachet_3g_av67</th>\n",
       "      <th>aon_months</th>\n",
       "    </tr>\n",
       "  </thead>\n",
       "  <tbody>\n",
       "    <tr>\n",
       "      <th>count</th>\n",
       "      <td>28757.00</td>\n",
       "      <td>28757.00</td>\n",
       "      <td>28757.00</td>\n",
       "      <td>28757.00</td>\n",
       "      <td>28757.00</td>\n",
       "      <td>28757.00</td>\n",
       "      <td>28757.00</td>\n",
       "      <td>28757.00</td>\n",
       "      <td>28757.00</td>\n",
       "      <td>28757.00</td>\n",
       "      <td>...</td>\n",
       "      <td>28757.00</td>\n",
       "      <td>28757.00</td>\n",
       "      <td>28757.00</td>\n",
       "      <td>28757.00</td>\n",
       "      <td>28757.00</td>\n",
       "      <td>28757.00</td>\n",
       "      <td>28757.00</td>\n",
       "      <td>28757.00</td>\n",
       "      <td>28757.00</td>\n",
       "      <td>28757.00</td>\n",
       "    </tr>\n",
       "    <tr>\n",
       "      <th>mean</th>\n",
       "      <td>0.20</td>\n",
       "      <td>0.71</td>\n",
       "      <td>0.38</td>\n",
       "      <td>12.91</td>\n",
       "      <td>20.44</td>\n",
       "      <td>0.81</td>\n",
       "      <td>0.45</td>\n",
       "      <td>1.47</td>\n",
       "      <td>21.79</td>\n",
       "      <td>0.43</td>\n",
       "      <td>...</td>\n",
       "      <td>0.90</td>\n",
       "      <td>0.41</td>\n",
       "      <td>1.10</td>\n",
       "      <td>0.68</td>\n",
       "      <td>0.38</td>\n",
       "      <td>4.06</td>\n",
       "      <td>0.42</td>\n",
       "      <td>1.02</td>\n",
       "      <td>0.22</td>\n",
       "      <td>0.28</td>\n",
       "    </tr>\n",
       "    <tr>\n",
       "      <th>std</th>\n",
       "      <td>1.19</td>\n",
       "      <td>1.95</td>\n",
       "      <td>1.22</td>\n",
       "      <td>75.57</td>\n",
       "      <td>106.37</td>\n",
       "      <td>3.24</td>\n",
       "      <td>1.25</td>\n",
       "      <td>4.84</td>\n",
       "      <td>90.81</td>\n",
       "      <td>1.25</td>\n",
       "      <td>...</td>\n",
       "      <td>3.61</td>\n",
       "      <td>1.34</td>\n",
       "      <td>2.75</td>\n",
       "      <td>2.49</td>\n",
       "      <td>1.25</td>\n",
       "      <td>26.70</td>\n",
       "      <td>1.22</td>\n",
       "      <td>3.48</td>\n",
       "      <td>0.96</td>\n",
       "      <td>0.73</td>\n",
       "    </tr>\n",
       "    <tr>\n",
       "      <th>min</th>\n",
       "      <td>-1.85</td>\n",
       "      <td>-0.29</td>\n",
       "      <td>-0.48</td>\n",
       "      <td>0.00</td>\n",
       "      <td>0.00</td>\n",
       "      <td>-0.31</td>\n",
       "      <td>-0.38</td>\n",
       "      <td>0.00</td>\n",
       "      <td>0.00</td>\n",
       "      <td>-0.40</td>\n",
       "      <td>...</td>\n",
       "      <td>-0.28</td>\n",
       "      <td>-0.57</td>\n",
       "      <td>-0.06</td>\n",
       "      <td>-0.25</td>\n",
       "      <td>-0.59</td>\n",
       "      <td>0.00</td>\n",
       "      <td>-0.45</td>\n",
       "      <td>-0.21</td>\n",
       "      <td>0.00</td>\n",
       "      <td>-0.52</td>\n",
       "    </tr>\n",
       "    <tr>\n",
       "      <th>25%</th>\n",
       "      <td>-0.45</td>\n",
       "      <td>-0.24</td>\n",
       "      <td>-0.35</td>\n",
       "      <td>0.00</td>\n",
       "      <td>0.00</td>\n",
       "      <td>-0.27</td>\n",
       "      <td>-0.30</td>\n",
       "      <td>0.00</td>\n",
       "      <td>0.00</td>\n",
       "      <td>-0.31</td>\n",
       "      <td>...</td>\n",
       "      <td>-0.25</td>\n",
       "      <td>-0.34</td>\n",
       "      <td>-0.06</td>\n",
       "      <td>-0.25</td>\n",
       "      <td>-0.35</td>\n",
       "      <td>0.00</td>\n",
       "      <td>-0.31</td>\n",
       "      <td>-0.19</td>\n",
       "      <td>0.00</td>\n",
       "      <td>-0.30</td>\n",
       "    </tr>\n",
       "    <tr>\n",
       "      <th>50%</th>\n",
       "      <td>0.00</td>\n",
       "      <td>0.00</td>\n",
       "      <td>0.00</td>\n",
       "      <td>0.00</td>\n",
       "      <td>0.00</td>\n",
       "      <td>0.00</td>\n",
       "      <td>0.00</td>\n",
       "      <td>0.00</td>\n",
       "      <td>0.00</td>\n",
       "      <td>0.00</td>\n",
       "      <td>...</td>\n",
       "      <td>0.00</td>\n",
       "      <td>0.00</td>\n",
       "      <td>0.00</td>\n",
       "      <td>0.00</td>\n",
       "      <td>0.00</td>\n",
       "      <td>0.00</td>\n",
       "      <td>0.00</td>\n",
       "      <td>0.00</td>\n",
       "      <td>0.00</td>\n",
       "      <td>0.00</td>\n",
       "    </tr>\n",
       "    <tr>\n",
       "      <th>75%</th>\n",
       "      <td>0.55</td>\n",
       "      <td>0.76</td>\n",
       "      <td>0.65</td>\n",
       "      <td>0.00</td>\n",
       "      <td>0.00</td>\n",
       "      <td>0.73</td>\n",
       "      <td>0.70</td>\n",
       "      <td>1.00</td>\n",
       "      <td>1.00</td>\n",
       "      <td>0.69</td>\n",
       "      <td>...</td>\n",
       "      <td>0.75</td>\n",
       "      <td>0.66</td>\n",
       "      <td>0.94</td>\n",
       "      <td>0.75</td>\n",
       "      <td>0.65</td>\n",
       "      <td>1.00</td>\n",
       "      <td>0.69</td>\n",
       "      <td>0.81</td>\n",
       "      <td>0.00</td>\n",
       "      <td>0.70</td>\n",
       "    </tr>\n",
       "    <tr>\n",
       "      <th>90%</th>\n",
       "      <td>1.30</td>\n",
       "      <td>2.57</td>\n",
       "      <td>1.62</td>\n",
       "      <td>15.91</td>\n",
       "      <td>30.75</td>\n",
       "      <td>2.25</td>\n",
       "      <td>1.78</td>\n",
       "      <td>3.78</td>\n",
       "      <td>59.50</td>\n",
       "      <td>1.72</td>\n",
       "      <td>...</td>\n",
       "      <td>2.34</td>\n",
       "      <td>1.69</td>\n",
       "      <td>3.59</td>\n",
       "      <td>2.10</td>\n",
       "      <td>1.65</td>\n",
       "      <td>7.01</td>\n",
       "      <td>1.68</td>\n",
       "      <td>2.81</td>\n",
       "      <td>0.50</td>\n",
       "      <td>1.49</td>\n",
       "    </tr>\n",
       "    <tr>\n",
       "      <th>99%</th>\n",
       "      <td>3.66</td>\n",
       "      <td>8.82</td>\n",
       "      <td>5.06</td>\n",
       "      <td>288.04</td>\n",
       "      <td>433.72</td>\n",
       "      <td>12.74</td>\n",
       "      <td>5.45</td>\n",
       "      <td>20.30</td>\n",
       "      <td>357.04</td>\n",
       "      <td>5.35</td>\n",
       "      <td>...</td>\n",
       "      <td>14.08</td>\n",
       "      <td>5.67</td>\n",
       "      <td>12.55</td>\n",
       "      <td>8.70</td>\n",
       "      <td>5.33</td>\n",
       "      <td>68.77</td>\n",
       "      <td>5.22</td>\n",
       "      <td>14.82</td>\n",
       "      <td>4.00</td>\n",
       "      <td>2.14</td>\n",
       "    </tr>\n",
       "    <tr>\n",
       "      <th>max</th>\n",
       "      <td>78.12</td>\n",
       "      <td>44.85</td>\n",
       "      <td>34.82</td>\n",
       "      <td>4169.81</td>\n",
       "      <td>5337.04</td>\n",
       "      <td>150.39</td>\n",
       "      <td>26.11</td>\n",
       "      <td>228.69</td>\n",
       "      <td>4397.88</td>\n",
       "      <td>37.49</td>\n",
       "      <td>...</td>\n",
       "      <td>121.89</td>\n",
       "      <td>27.92</td>\n",
       "      <td>72.34</td>\n",
       "      <td>162.90</td>\n",
       "      <td>26.56</td>\n",
       "      <td>1742.71</td>\n",
       "      <td>21.86</td>\n",
       "      <td>106.13</td>\n",
       "      <td>27.00</td>\n",
       "      <td>2.65</td>\n",
       "    </tr>\n",
       "  </tbody>\n",
       "</table>\n",
       "<p>10 rows × 86 columns</p>\n",
       "</div>"
      ],
      "text/plain": [
       "         arpu_8  onnet_mou_8  offnet_mou_8  roam_ic_mou_8  roam_og_mou_8  \\\n",
       "count  28757.00     28757.00      28757.00       28757.00       28757.00   \n",
       "mean       0.20         0.71          0.38          12.91          20.44   \n",
       "std        1.19         1.95          1.22          75.57         106.37   \n",
       "min       -1.85        -0.29         -0.48           0.00           0.00   \n",
       "25%       -0.45        -0.24         -0.35           0.00           0.00   \n",
       "50%        0.00         0.00          0.00           0.00           0.00   \n",
       "75%        0.55         0.76          0.65           0.00           0.00   \n",
       "90%        1.30         2.57          1.62          15.91          30.75   \n",
       "99%        3.66         8.82          5.06         288.04         433.72   \n",
       "max       78.12        44.85         34.82        4169.81        5337.04   \n",
       "\n",
       "       loc_og_t2t_mou_8  loc_og_t2m_mou_8  loc_og_t2f_mou_8  loc_og_t2c_mou_8  \\\n",
       "count          28757.00          28757.00          28757.00          28757.00   \n",
       "mean               0.81              0.45              1.47             21.79   \n",
       "std                3.24              1.25              4.84             90.81   \n",
       "min               -0.31             -0.38              0.00              0.00   \n",
       "25%               -0.27             -0.30              0.00              0.00   \n",
       "50%                0.00              0.00              0.00              0.00   \n",
       "75%                0.73              0.70              1.00              1.00   \n",
       "90%                2.25              1.78              3.78             59.50   \n",
       "99%               12.74              5.45             20.30            357.04   \n",
       "max              150.39             26.11            228.69           4397.88   \n",
       "\n",
       "       loc_og_mou_8     ...      avg_std_ic_t2m_mou_av67  \\\n",
       "count      28757.00     ...                     28757.00   \n",
       "mean           0.43     ...                         0.90   \n",
       "std            1.25     ...                         3.61   \n",
       "min           -0.40     ...                        -0.28   \n",
       "25%           -0.31     ...                        -0.25   \n",
       "50%            0.00     ...                         0.00   \n",
       "75%            0.69     ...                         0.75   \n",
       "90%            1.72     ...                         2.34   \n",
       "99%            5.35     ...                        14.08   \n",
       "max           37.49     ...                       121.89   \n",
       "\n",
       "       avg_loc_ic_t2m_mou_av67  avg_vol_2g_mb_av67  avg_spl_og_mou_av67  \\\n",
       "count                 28757.00            28757.00             28757.00   \n",
       "mean                      0.41                1.10                 0.68   \n",
       "std                       1.34                2.75                 2.49   \n",
       "min                      -0.57               -0.06                -0.25   \n",
       "25%                      -0.34               -0.06                -0.25   \n",
       "50%                       0.00                0.00                 0.00   \n",
       "75%                       0.66                0.94                 0.75   \n",
       "90%                       1.69                3.59                 2.10   \n",
       "99%                       5.67               12.55                 8.70   \n",
       "max                      27.92               72.34               162.90   \n",
       "\n",
       "       avg_loc_ic_mou_av67  avg_std_ic_t2f_mou_av67  avg_loc_og_mou_av67  \\\n",
       "count             28757.00                 28757.00             28757.00   \n",
       "mean                  0.38                     4.06                 0.42   \n",
       "std                   1.25                    26.70                 1.22   \n",
       "min                  -0.59                     0.00                -0.45   \n",
       "25%                  -0.35                     0.00                -0.31   \n",
       "50%                   0.00                     0.00                 0.00   \n",
       "75%                   0.65                     1.00                 0.69   \n",
       "90%                   1.65                     7.01                 1.68   \n",
       "99%                   5.33                    68.77                 5.22   \n",
       "max                  26.56                  1742.71                21.86   \n",
       "\n",
       "       avg_loc_ic_t2f_mou_av67  avg_sachet_3g_av67  aon_months  \n",
       "count                 28757.00            28757.00    28757.00  \n",
       "mean                      1.02                0.22        0.28  \n",
       "std                       3.48                0.96        0.73  \n",
       "min                      -0.21                0.00       -0.52  \n",
       "25%                      -0.19                0.00       -0.30  \n",
       "50%                       0.00                0.00        0.00  \n",
       "75%                       0.81                0.00        0.70  \n",
       "90%                       2.81                0.50        1.49  \n",
       "99%                      14.82                4.00        2.14  \n",
       "max                     106.13               27.00        2.65  \n",
       "\n",
       "[10 rows x 86 columns]"
      ]
     },
     "execution_count": 39,
     "metadata": {},
     "output_type": "execute_result"
    }
   ],
   "source": [
    "telecom_churn_data.describe(percentiles=[.25,.5,.75,.9,.99]).round(2)"
   ]
  },
  {
   "cell_type": "code",
   "execution_count": 40,
   "metadata": {},
   "outputs": [],
   "source": [
    "cat_cols = list(telecom_churn_data.select_dtypes(include='object').columns.values)\n",
    "num_cols = telecom_churn_data.select_dtypes(exclude='object').columns\n",
    "\n",
    "telecom_churn_data[cat_cols] = telecom_churn_data[cat_cols].astype('int')"
   ]
  },
  {
   "cell_type": "markdown",
   "metadata": {},
   "source": [
    "# Handling data imbalance"
   ]
  },
  {
   "cell_type": "code",
   "execution_count": 41,
   "metadata": {},
   "outputs": [
    {
     "name": "stdout",
     "output_type": "stream",
     "text": [
      "No Churn 93.99 % of the dataset\n",
      "Churn 6.01 % of the dataset\n",
      "Train: [ 5588  5593  5630 ... 28754 28755 28756] Test: [   0    1    2 ... 5763 5764 5765]\n",
      "Train: [    0     1     2 ... 28754 28755 28756] Test: [ 5588  5593  5630 ... 11509 11520 11570]\n",
      "Train: [    0     1     2 ... 28754 28755 28756] Test: [11499 11500 11502 ... 17466 17496 17501]\n",
      "Train: [    0     1     2 ... 28754 28755 28756] Test: [17234 17236 17237 ... 23413 23428 23429]\n",
      "Train: [    0     1     2 ... 23413 23428 23429] Test: [22978 22979 22980 ... 28754 28755 28756]\n",
      "----------------------------------------------------------------------------------------------------\n",
      "Label Distributions: \n",
      "\n",
      "[0.9398444 0.0601556]\n",
      "[0.94 0.06]\n"
     ]
    }
   ],
   "source": [
    "from sklearn.model_selection import train_test_split\n",
    "from sklearn.model_selection import StratifiedShuffleSplit\n",
    "\n",
    "print('No Churn', round(telecom_churn_data['churn'].value_counts()[0]/len(telecom_churn_data) * 100,2), '% of the dataset')\n",
    "print('Churn', round(telecom_churn_data['churn'].value_counts()[1]/len(telecom_churn_data) * 100,2), '% of the dataset')\n",
    "\n",
    "X = telecom_churn_data.drop(['churn'], axis=1)\n",
    "y = telecom_churn_data['churn']\n",
    "\n",
    "sss = StratifiedKFold(n_splits=5, random_state=100, shuffle=False)\n",
    "\n",
    "for train_index, test_index in sss.split(X, y):\n",
    "    print(\"Train:\", train_index, \"Test:\", test_index)\n",
    "    original_Xtrain, original_Xtest = X.iloc[train_index], X.iloc[test_index]\n",
    "    original_ytrain, original_ytest = y.iloc[train_index], y.iloc[test_index]\n",
    "\n",
    "# We already have X_train and y_train for undersample data thats why I am using original to distinguish and to not overwrite these variables.\n",
    "# original_Xtrain, original_Xtest, original_ytrain, original_ytest = train_test_split(X, y, test_size=0.2, random_state=42)\n",
    "\n",
    "# Check the Distribution of the labels\n",
    "\n",
    "\n",
    "# Turn into an array\n",
    "original_Xtrain = original_Xtrain.values\n",
    "original_Xtest = original_Xtest.values\n",
    "original_ytrain = original_ytrain.values\n",
    "original_ytest = original_ytest.values\n",
    "\n",
    "# See if both the train and test label distribution are similarly distributed\n",
    "train_unique_label, train_counts_label = np.unique(original_ytrain, return_counts=True)\n",
    "test_unique_label, test_counts_label = np.unique(original_ytest, return_counts=True)\n",
    "print('-' * 100)\n",
    "\n",
    "print('Label Distributions: \\n')\n",
    "print(train_counts_label/ len(original_ytrain))\n",
    "print(test_counts_label/ len(original_ytest))"
   ]
  },
  {
   "cell_type": "code",
   "execution_count": 42,
   "metadata": {},
   "outputs": [
    {
     "data": {
      "text/plain": [
       "1729"
      ]
     },
     "execution_count": 42,
     "metadata": {},
     "output_type": "execute_result"
    }
   ],
   "source": [
    "telecom_churn_data[telecom_churn_data.churn==1].shape[0]"
   ]
  },
  {
   "cell_type": "code",
   "execution_count": 43,
   "metadata": {},
   "outputs": [
    {
     "data": {
      "text/html": [
       "<div>\n",
       "<style scoped>\n",
       "    .dataframe tbody tr th:only-of-type {\n",
       "        vertical-align: middle;\n",
       "    }\n",
       "\n",
       "    .dataframe tbody tr th {\n",
       "        vertical-align: top;\n",
       "    }\n",
       "\n",
       "    .dataframe thead th {\n",
       "        text-align: right;\n",
       "    }\n",
       "</style>\n",
       "<table border=\"1\" class=\"dataframe\">\n",
       "  <thead>\n",
       "    <tr style=\"text-align: right;\">\n",
       "      <th></th>\n",
       "      <th>arpu_8</th>\n",
       "      <th>onnet_mou_8</th>\n",
       "      <th>offnet_mou_8</th>\n",
       "      <th>roam_ic_mou_8</th>\n",
       "      <th>roam_og_mou_8</th>\n",
       "      <th>loc_og_t2t_mou_8</th>\n",
       "      <th>loc_og_t2m_mou_8</th>\n",
       "      <th>loc_og_t2f_mou_8</th>\n",
       "      <th>loc_og_t2c_mou_8</th>\n",
       "      <th>loc_og_mou_8</th>\n",
       "      <th>...</th>\n",
       "      <th>avg_std_ic_t2m_mou_av67</th>\n",
       "      <th>avg_loc_ic_t2m_mou_av67</th>\n",
       "      <th>avg_vol_2g_mb_av67</th>\n",
       "      <th>avg_spl_og_mou_av67</th>\n",
       "      <th>avg_loc_ic_mou_av67</th>\n",
       "      <th>avg_std_ic_t2f_mou_av67</th>\n",
       "      <th>avg_loc_og_mou_av67</th>\n",
       "      <th>avg_loc_ic_t2f_mou_av67</th>\n",
       "      <th>avg_sachet_3g_av67</th>\n",
       "      <th>aon_months</th>\n",
       "    </tr>\n",
       "  </thead>\n",
       "  <tbody>\n",
       "    <tr>\n",
       "      <th>77333</th>\n",
       "      <td>0.830027</td>\n",
       "      <td>1.934089</td>\n",
       "      <td>1.702198</td>\n",
       "      <td>0.0</td>\n",
       "      <td>0.00</td>\n",
       "      <td>0.560336</td>\n",
       "      <td>0.612612</td>\n",
       "      <td>0.000000</td>\n",
       "      <td>1.375</td>\n",
       "      <td>0.453756</td>\n",
       "      <td>...</td>\n",
       "      <td>-0.150039</td>\n",
       "      <td>-0.208123</td>\n",
       "      <td>-0.059824</td>\n",
       "      <td>-0.198147</td>\n",
       "      <td>-0.307130</td>\n",
       "      <td>0.000000</td>\n",
       "      <td>-0.029525</td>\n",
       "      <td>-0.191781</td>\n",
       "      <td>0.0</td>\n",
       "      <td>-0.036725</td>\n",
       "    </tr>\n",
       "    <tr>\n",
       "      <th>4120</th>\n",
       "      <td>-1.034004</td>\n",
       "      <td>-0.294626</td>\n",
       "      <td>-0.470585</td>\n",
       "      <td>0.0</td>\n",
       "      <td>13.46</td>\n",
       "      <td>-0.309460</td>\n",
       "      <td>-0.380340</td>\n",
       "      <td>0.000000</td>\n",
       "      <td>0.000</td>\n",
       "      <td>-0.397440</td>\n",
       "      <td>...</td>\n",
       "      <td>1.686228</td>\n",
       "      <td>-0.409531</td>\n",
       "      <td>-0.059824</td>\n",
       "      <td>3.101212</td>\n",
       "      <td>-0.458573</td>\n",
       "      <td>0.000000</td>\n",
       "      <td>-0.365017</td>\n",
       "      <td>0.002740</td>\n",
       "      <td>0.0</td>\n",
       "      <td>0.222647</td>\n",
       "    </tr>\n",
       "    <tr>\n",
       "      <th>25007</th>\n",
       "      <td>-1.034004</td>\n",
       "      <td>-0.294626</td>\n",
       "      <td>-0.482205</td>\n",
       "      <td>0.0</td>\n",
       "      <td>0.00</td>\n",
       "      <td>-0.309460</td>\n",
       "      <td>-0.380340</td>\n",
       "      <td>0.000000</td>\n",
       "      <td>0.000</td>\n",
       "      <td>-0.397440</td>\n",
       "      <td>...</td>\n",
       "      <td>-0.193858</td>\n",
       "      <td>3.367533</td>\n",
       "      <td>-0.059824</td>\n",
       "      <td>-0.250178</td>\n",
       "      <td>2.539998</td>\n",
       "      <td>0.000000</td>\n",
       "      <td>1.243983</td>\n",
       "      <td>0.365558</td>\n",
       "      <td>0.0</td>\n",
       "      <td>-0.301454</td>\n",
       "    </tr>\n",
       "    <tr>\n",
       "      <th>15706</th>\n",
       "      <td>-0.455274</td>\n",
       "      <td>0.226952</td>\n",
       "      <td>0.371402</td>\n",
       "      <td>0.0</td>\n",
       "      <td>0.00</td>\n",
       "      <td>0.585144</td>\n",
       "      <td>0.753471</td>\n",
       "      <td>1.726601</td>\n",
       "      <td>0.000</td>\n",
       "      <td>0.574419</td>\n",
       "      <td>...</td>\n",
       "      <td>2.968310</td>\n",
       "      <td>0.110086</td>\n",
       "      <td>0.261912</td>\n",
       "      <td>0.484676</td>\n",
       "      <td>0.084199</td>\n",
       "      <td>0.000000</td>\n",
       "      <td>0.278034</td>\n",
       "      <td>1.086497</td>\n",
       "      <td>1.5</td>\n",
       "      <td>-0.290742</td>\n",
       "    </tr>\n",
       "    <tr>\n",
       "      <th>76734</th>\n",
       "      <td>-0.288919</td>\n",
       "      <td>-0.228338</td>\n",
       "      <td>-0.082245</td>\n",
       "      <td>0.0</td>\n",
       "      <td>0.00</td>\n",
       "      <td>-0.088157</td>\n",
       "      <td>0.325769</td>\n",
       "      <td>2.793103</td>\n",
       "      <td>0.000</td>\n",
       "      <td>0.149559</td>\n",
       "      <td>...</td>\n",
       "      <td>0.467136</td>\n",
       "      <td>0.887279</td>\n",
       "      <td>2.009256</td>\n",
       "      <td>-0.215966</td>\n",
       "      <td>0.495777</td>\n",
       "      <td>1.132353</td>\n",
       "      <td>0.382322</td>\n",
       "      <td>1.194912</td>\n",
       "      <td>0.0</td>\n",
       "      <td>2.140015</td>\n",
       "    </tr>\n",
       "  </tbody>\n",
       "</table>\n",
       "<p>5 rows × 87 columns</p>\n",
       "</div>"
      ],
      "text/plain": [
       "         arpu_8  onnet_mou_8  offnet_mou_8  roam_ic_mou_8  roam_og_mou_8  \\\n",
       "77333  0.830027     1.934089      1.702198            0.0           0.00   \n",
       "4120  -1.034004    -0.294626     -0.470585            0.0          13.46   \n",
       "25007 -1.034004    -0.294626     -0.482205            0.0           0.00   \n",
       "15706 -0.455274     0.226952      0.371402            0.0           0.00   \n",
       "76734 -0.288919    -0.228338     -0.082245            0.0           0.00   \n",
       "\n",
       "       loc_og_t2t_mou_8  loc_og_t2m_mou_8  loc_og_t2f_mou_8  loc_og_t2c_mou_8  \\\n",
       "77333          0.560336          0.612612          0.000000             1.375   \n",
       "4120          -0.309460         -0.380340          0.000000             0.000   \n",
       "25007         -0.309460         -0.380340          0.000000             0.000   \n",
       "15706          0.585144          0.753471          1.726601             0.000   \n",
       "76734         -0.088157          0.325769          2.793103             0.000   \n",
       "\n",
       "       loc_og_mou_8     ...      avg_std_ic_t2m_mou_av67  \\\n",
       "77333      0.453756     ...                    -0.150039   \n",
       "4120      -0.397440     ...                     1.686228   \n",
       "25007     -0.397440     ...                    -0.193858   \n",
       "15706      0.574419     ...                     2.968310   \n",
       "76734      0.149559     ...                     0.467136   \n",
       "\n",
       "       avg_loc_ic_t2m_mou_av67  avg_vol_2g_mb_av67  avg_spl_og_mou_av67  \\\n",
       "77333                -0.208123           -0.059824            -0.198147   \n",
       "4120                 -0.409531           -0.059824             3.101212   \n",
       "25007                 3.367533           -0.059824            -0.250178   \n",
       "15706                 0.110086            0.261912             0.484676   \n",
       "76734                 0.887279            2.009256            -0.215966   \n",
       "\n",
       "       avg_loc_ic_mou_av67  avg_std_ic_t2f_mou_av67  avg_loc_og_mou_av67  \\\n",
       "77333            -0.307130                 0.000000            -0.029525   \n",
       "4120             -0.458573                 0.000000            -0.365017   \n",
       "25007             2.539998                 0.000000             1.243983   \n",
       "15706             0.084199                 0.000000             0.278034   \n",
       "76734             0.495777                 1.132353             0.382322   \n",
       "\n",
       "       avg_loc_ic_t2f_mou_av67  avg_sachet_3g_av67  aon_months  \n",
       "77333                -0.191781                 0.0   -0.036725  \n",
       "4120                  0.002740                 0.0    0.222647  \n",
       "25007                 0.365558                 0.0   -0.301454  \n",
       "15706                 1.086497                 1.5   -0.290742  \n",
       "76734                 1.194912                 0.0    2.140015  \n",
       "\n",
       "[5 rows x 87 columns]"
      ]
     },
     "execution_count": 43,
     "metadata": {},
     "output_type": "execute_result"
    }
   ],
   "source": [
    "# Since our classes are highly skewed we should make them equivalent in order to have a normal distribution of the classes.\n",
    "\n",
    "# Lets shuffle the data before creating the subsamples\n",
    "\n",
    "telecom_churn_data = telecom_churn_data.sample(frac=1)\n",
    "\n",
    "# Number of churn labels 2546 rows.\n",
    "churn_df = telecom_churn_data.loc[telecom_churn_data['churn'] == 1]\n",
    "non_churn_df = telecom_churn_data.loc[telecom_churn_data['churn'] == 0][:telecom_churn_data[telecom_churn_data.churn==1].shape[0]]\n",
    "\n",
    "normal_distributed_df = pd.concat([churn_df, non_churn_df])\n",
    "\n",
    "# Shuffle dataframe rows\n",
    "new_df = normal_distributed_df.sample(frac=1, random_state=42)\n",
    "\n",
    "new_df.head()"
   ]
  },
  {
   "cell_type": "code",
   "execution_count": 44,
   "metadata": {},
   "outputs": [
    {
     "name": "stdout",
     "output_type": "stream",
     "text": [
      "Distribution of the churn classes in the subsample dataset\n",
      "1    0.5\n",
      "0    0.5\n",
      "Name: churn, dtype: float64\n"
     ]
    },
    {
     "data": {
      "image/png": "[encoded data removed]",
      "text/plain": [
       "<Figure size 432x288 with 1 Axes>"
      ]
     },
     "metadata": {
      "needs_background": "light"
     },
     "output_type": "display_data"
    }
   ],
   "source": [
    "print('Distribution of the churn classes in the subsample dataset')\n",
    "print(new_df['churn'].value_counts()/len(new_df))\n",
    "\n",
    "sns.countplot('churn', data=new_df, palette=['blue','red'])\n",
    "plt.title('Equally Distributed Classes', fontsize=14)\n",
    "plt.show()"
   ]
  },
  {
   "cell_type": "code",
   "execution_count": 47,
   "metadata": {},
   "outputs": [],
   "source": []
  },
  {
   "cell_type": "code",
   "execution_count": 48,
   "metadata": {},
   "outputs": [
    {
     "name": "stdout",
     "output_type": "stream",
     "text": [
      "X.shape : (3458, 86)\n",
      "y.shape : (3458,)\n"
     ]
    }
   ],
   "source": [
    "# New_df is from the random undersample data (fewer instances)\n",
    "X = new_df.drop(['churn'], axis=1)\n",
    "y = new_df['churn']\n",
    "print(\"X.shape :\",X.shape)\n",
    "print(\"y.shape :\",y.shape)"
   ]
  },
  {
   "cell_type": "markdown",
   "metadata": {},
   "source": [
    "# Dimensionality reduction with PCA"
   ]
  },
  {
   "cell_type": "code",
   "execution_count": 49,
   "metadata": {},
   "outputs": [
    {
     "data": {
      "text/plain": [
       "PCA(copy=True, iterated_power='auto', n_components=None, random_state=42,\n",
       "    svd_solver='randomized', tol=0.0, whiten=False)"
      ]
     },
     "execution_count": 49,
     "metadata": {},
     "output_type": "execute_result"
    }
   ],
   "source": [
    "pca = PCA(svd_solver='randomized', random_state=42)\n",
    "pca.fit(X.values)"
   ]
  },
  {
   "cell_type": "code",
   "execution_count": 50,
   "metadata": {},
   "outputs": [
    {
     "data": {
      "text/html": [
       "<div>\n",
       "<style scoped>\n",
       "    .dataframe tbody tr th:only-of-type {\n",
       "        vertical-align: middle;\n",
       "    }\n",
       "\n",
       "    .dataframe tbody tr th {\n",
       "        vertical-align: top;\n",
       "    }\n",
       "\n",
       "    .dataframe thead th {\n",
       "        text-align: right;\n",
       "    }\n",
       "</style>\n",
       "<table border=\"1\" class=\"dataframe\">\n",
       "  <thead>\n",
       "    <tr style=\"text-align: right;\">\n",
       "      <th></th>\n",
       "      <th>PC1</th>\n",
       "      <th>PC2</th>\n",
       "      <th>Feature</th>\n",
       "    </tr>\n",
       "  </thead>\n",
       "  <tbody>\n",
       "    <tr>\n",
       "      <th>0</th>\n",
       "      <td>0.001577</td>\n",
       "      <td>0.001048</td>\n",
       "      <td>arpu_8</td>\n",
       "    </tr>\n",
       "    <tr>\n",
       "      <th>1</th>\n",
       "      <td>0.001444</td>\n",
       "      <td>0.000362</td>\n",
       "      <td>onnet_mou_8</td>\n",
       "    </tr>\n",
       "    <tr>\n",
       "      <th>2</th>\n",
       "      <td>0.000768</td>\n",
       "      <td>0.000512</td>\n",
       "      <td>offnet_mou_8</td>\n",
       "    </tr>\n",
       "    <tr>\n",
       "      <th>3</th>\n",
       "      <td>0.450576</td>\n",
       "      <td>0.076880</td>\n",
       "      <td>roam_ic_mou_8</td>\n",
       "    </tr>\n",
       "    <tr>\n",
       "      <th>4</th>\n",
       "      <td>0.843882</td>\n",
       "      <td>0.114106</td>\n",
       "      <td>roam_og_mou_8</td>\n",
       "    </tr>\n",
       "  </tbody>\n",
       "</table>\n",
       "</div>"
      ],
      "text/plain": [
       "        PC1       PC2        Feature\n",
       "0  0.001577  0.001048         arpu_8\n",
       "1  0.001444  0.000362    onnet_mou_8\n",
       "2  0.000768  0.000512   offnet_mou_8\n",
       "3  0.450576  0.076880  roam_ic_mou_8\n",
       "4  0.843882  0.114106  roam_og_mou_8"
      ]
     },
     "execution_count": 50,
     "metadata": {},
     "output_type": "execute_result"
    }
   ],
   "source": [
    "colnames = list(X.columns)\n",
    "pcs_df = pd.DataFrame({'PC1':pca.components_[0],'PC2':pca.components_[1], 'Feature':colnames})\n",
    "pcs_df.head()"
   ]
  },
  {
   "cell_type": "code",
   "execution_count": 51,
   "metadata": {},
   "outputs": [
    {
     "data": {
      "image/png": "[encoded data removed]",
      "text/plain": [
       "<Figure size 576x576 with 1 Axes>"
      ]
     },
     "metadata": {
      "needs_background": "light"
     },
     "output_type": "display_data"
    }
   ],
   "source": [
    "%matplotlib inline\n",
    "fig = plt.figure(figsize = (8,8))\n",
    "plt.scatter(pcs_df.PC1, pcs_df.PC2)\n",
    "plt.xlabel('Principal Component 1')\n",
    "plt.ylabel('Principal Component 2')\n",
    "for i, txt in enumerate(pcs_df.Feature):\n",
    "    plt.annotate(txt, (pcs_df.PC1[i],pcs_df.PC2[i]))\n",
    "plt.tight_layout()\n",
    "plt.show()"
   ]
  },
  {
   "cell_type": "code",
   "execution_count": 52,
   "metadata": {},
   "outputs": [
    {
     "data": {
      "image/png": "[encoded data removed]",
      "text/plain": [
       "<Figure size 864x576 with 1 Axes>"
      ]
     },
     "metadata": {
      "needs_background": "light"
     },
     "output_type": "display_data"
    }
   ],
   "source": [
    "#Making the screeplot - plotting the cumulative variance against the number of components\n",
    "%matplotlib inline\n",
    "fig = plt.figure(figsize = (12,8))\n",
    "plt.plot(np.cumsum(pca.explained_variance_ratio_))\n",
    "plt.xlabel('number of components')\n",
    "plt.ylabel('cumulative explained variance')\n",
    "plt.show()"
   ]
  },
  {
   "cell_type": "code",
   "execution_count": 53,
   "metadata": {},
   "outputs": [
    {
     "data": {
      "text/plain": [
       "(3458, 6)"
      ]
     },
     "execution_count": 53,
     "metadata": {},
     "output_type": "execute_result"
    }
   ],
   "source": [
    "pca_again = PCA(0.90)\n",
    "df_test = pca_again.fit_transform(X.values)\n",
    "df_test.shape"
   ]
  },
  {
   "cell_type": "code",
   "execution_count": 54,
   "metadata": {},
   "outputs": [],
   "source": [
    "#Using incremental PCA for efficiency - saves a lot of time on larger datasets\n",
    "from sklearn.decomposition import IncrementalPCA\n",
    "pca_final = IncrementalPCA(n_components=df_test.shape[1])"
   ]
  },
  {
   "cell_type": "code",
   "execution_count": 55,
   "metadata": {},
   "outputs": [
    {
     "data": {
      "text/plain": [
       "(3458, 6)"
      ]
     },
     "execution_count": 55,
     "metadata": {},
     "output_type": "execute_result"
    }
   ],
   "source": [
    "X_reduced_pca = pca_final.fit_transform(X.values)\n",
    "X_reduced_pca.shape"
   ]
  },
  {
   "cell_type": "code",
   "execution_count": 56,
   "metadata": {},
   "outputs": [
    {
     "data": {
      "image/png": "[encoded data removed]",
      "text/plain": [
       "<Figure size 1440x720 with 2 Axes>"
      ]
     },
     "metadata": {
      "needs_background": "light"
     },
     "output_type": "display_data"
    }
   ],
   "source": [
    "#creating correlation matrix for the principal components\n",
    "corrmat = np.corrcoef(X_reduced_pca.transpose())\n",
    "\n",
    "#plotting the correlation matrix\n",
    "%matplotlib inline\n",
    "plt.figure(figsize = (20,10))\n",
    "sns.heatmap(corrmat,annot = True)\n",
    "plt.show()"
   ]
  },
  {
   "cell_type": "markdown",
   "metadata": {},
   "source": [
    "---\n",
    "\n",
    "There is no correlationship between selected principal components. So, PCA has done a good job.\n",
    "\n",
    "---\n"
   ]
  },
  {
   "cell_type": "code",
   "execution_count": 58,
   "metadata": {},
   "outputs": [
    {
     "data": {
      "text/plain": [
       "<matplotlib.legend.Legend at 0xdb3ab25358>"
      ]
     },
     "execution_count": 58,
     "metadata": {},
     "output_type": "execute_result"
    },
    {
     "data": {
      "image/png": "[encoded data removed]",
      "text/plain": [
       "<Figure size 1440x432 with 1 Axes>"
      ]
     },
     "metadata": {
      "needs_background": "light"
     },
     "output_type": "display_data"
    }
   ],
   "source": [
    "import matplotlib.patches as mpatches\n",
    "\n",
    "f, ax1 = plt.subplots(1, 1, figsize=(20,6))\n",
    "# labels = ['No Churn', 'Churn']\n",
    "f.suptitle('Clusters using Dimensionality Reduction', fontsize=14)\n",
    "\n",
    "\n",
    "blue_patch = mpatches.Patch(color='#0A0AFF', label='No Churn')\n",
    "red_patch = mpatches.Patch(color='#AF0000', label='Churn')\n",
    "\n",
    "# PCA scatter plot\n",
    "ax1.scatter(X_reduced_pca[:,0], X_reduced_pca[:,1], c=(y == 0), cmap='coolwarm', label='No Churn', linewidths=2)\n",
    "ax1.scatter(X_reduced_pca[:,0], X_reduced_pca[:,1], c=(y == 1), cmap='coolwarm', label='Churn', linewidths=2)\n",
    "ax1.set_title('PCA', fontsize=14)\n",
    "\n",
    "ax1.grid(True)\n",
    "\n",
    "ax1.legend(handles=[blue_patch, red_patch])"
   ]
  },
  {
   "cell_type": "markdown",
   "metadata": {},
   "source": [
    "# Model building"
   ]
  },
  {
   "cell_type": "markdown",
   "metadata": {},
   "source": [
    "## Logistics Regression"
   ]
  },
  {
   "cell_type": "code",
   "execution_count": 59,
   "metadata": {},
   "outputs": [
    {
     "name": "stdout",
     "output_type": "stream",
     "text": [
      "Length of X (train): 23007 | Length of y (train): 23007\n",
      "Length of X (test): 5750 | Length of y (test): 5750\n",
      "---------------------------------------------------------------------------------------------------------------------------------------\n",
      "\n",
      "Train accuracy: 0.832746633550107\n",
      "Train precision: 0.2428289763354794\n",
      "Train recall: 0.8403442682990635\n",
      "Train f1: 0.37677192674219656\n",
      "---------------------------------------------------------------------------------------------------------------------------------------\n",
      "Wall time: 54min 1s\n"
     ]
    }
   ],
   "source": [
    "%%time\n",
    "from imblearn.over_sampling import SMOTE\n",
    "from sklearn.model_selection import train_test_split, RandomizedSearchCV\n",
    "from sklearn.linear_model import LogisticRegression\n",
    "from imblearn.pipeline import make_pipeline as imbalanced_make_pipeline\n",
    "\n",
    "\n",
    "print('Length of X (train): {} | Length of y (train): {}'.format(len(original_Xtrain), len(original_ytrain)))\n",
    "print('Length of X (test): {} | Length of y (test): {}'.format(len(original_Xtest), len(original_ytest)))\n",
    "\n",
    "# List to append the score and then find the average\n",
    "accuracy_lst = []\n",
    "precision_lst = []\n",
    "recall_lst = []\n",
    "f1_lst = []\n",
    "auc_lst = []\n",
    "\n",
    "# Classifier with optimal parameters\n",
    "# log_reg_sm = grid_log_reg.best_estimator_\n",
    "log_reg_sm = LogisticRegression(random_state=100)\n",
    "\n",
    "log_reg_params = {\"penalty\": ['l1', 'l2'], 'C': [0.001, 0.01, 0.1, 1, 10, 100, 1000]}\n",
    "rand_log_reg = RandomizedSearchCV(log_reg_sm, log_reg_params, n_iter=4)\n",
    "\n",
    "\n",
    "for train, test in sss.split(original_Xtrain, original_ytrain):\n",
    "    pipeline = imbalanced_make_pipeline(SMOTE(sampling_strategy='minority'), rand_log_reg)\n",
    "    model = pipeline.fit(original_Xtrain[train], original_ytrain[train])\n",
    "    best_est = rand_log_reg.best_estimator_\n",
    "    prediction = best_est.predict(original_Xtrain[test])\n",
    "    \n",
    "    accuracy_lst.append(pipeline.score(original_Xtrain[test], original_ytrain[test]))\n",
    "    precision_lst.append(precision_score(original_ytrain[test], prediction))\n",
    "    recall_lst.append(recall_score(original_ytrain[test], prediction))\n",
    "    f1_lst.append(f1_score(original_ytrain[test], prediction))\n",
    "    auc_lst.append(roc_auc_score(original_ytrain[test], prediction))\n",
    "    \n",
    "print('---' * 45)\n",
    "print('')\n",
    "print(\"Train accuracy: {}\".format(np.mean(accuracy_lst)))\n",
    "print(\"Train precision: {}\".format(np.mean(precision_lst)))\n",
    "print(\"Train recall: {}\".format(np.mean(recall_lst)))\n",
    "print(\"Train f1: {}\".format(np.mean(f1_lst)))\n",
    "print('---' * 45)"
   ]
  },
  {
   "cell_type": "code",
   "execution_count": 60,
   "metadata": {},
   "outputs": [
    {
     "name": "stdout",
     "output_type": "stream",
     "text": [
      "              precision    recall  f1-score   support\n",
      "\n",
      "    No Churn       0.99      0.83      0.90      5405\n",
      "       Churn       0.23      0.83      0.37       345\n",
      "\n",
      "    accuracy                           0.83      5750\n",
      "   macro avg       0.61      0.83      0.63      5750\n",
      "weighted avg       0.94      0.83      0.87      5750\n",
      "\n"
     ]
    }
   ],
   "source": [
    "labels = ['No Churn', 'Churn']\n",
    "smote_prediction = best_est.predict(original_Xtest)\n",
    "print(classification_report(original_ytest, smote_prediction, target_names=labels))"
   ]
  },
  {
   "cell_type": "code",
   "execution_count": 61,
   "metadata": {},
   "outputs": [
    {
     "name": "stdout",
     "output_type": "stream",
     "text": [
      "y_score : [ -2.17370813  -5.42290195   0.65330157 ...  -5.44308055 -11.37825654\n",
      "  -2.93283172]\n"
     ]
    }
   ],
   "source": [
    "y_score = best_est.decision_function(original_Xtest)\n",
    "print(\"y_score :\",y_score)"
   ]
  },
  {
   "cell_type": "code",
   "execution_count": 62,
   "metadata": {},
   "outputs": [
    {
     "name": "stdout",
     "output_type": "stream",
     "text": [
      "Average precision-recall score: 0.40\n"
     ]
    }
   ],
   "source": [
    "from sklearn.metrics import average_precision_score\n",
    "\n",
    "average_precision = average_precision_score(original_ytest, y_score)\n",
    "\n",
    "print('Average precision-recall score: {0:0.2f}'.format(\n",
    "      average_precision))"
   ]
  },
  {
   "cell_type": "code",
   "execution_count": 63,
   "metadata": {},
   "outputs": [
    {
     "data": {
      "text/plain": [
       "Text(0.5, 1.0, 'OverSampling Precision-Recall curve: \\n Average Precision-Recall Score =0.40')"
      ]
     },
     "execution_count": 63,
     "metadata": {},
     "output_type": "execute_result"
    },
    {
     "data": {
      "image/png": "[encoded data removed]",
      "text/plain": [
       "<Figure size 864x432 with 1 Axes>"
      ]
     },
     "metadata": {
      "needs_background": "light"
     },
     "output_type": "display_data"
    }
   ],
   "source": [
    "\n",
    "fig = plt.figure(figsize=(12,6))\n",
    "\n",
    "precision, recall, _ = precision_recall_curve(original_ytest, y_score)\n",
    "\n",
    "plt.step(recall, precision, color='r', alpha=0.2,\n",
    "         where='post')\n",
    "plt.fill_between(recall, precision, step='post', alpha=0.2,\n",
    "                 color='#F59B00')\n",
    "\n",
    "plt.xlabel('Recall')\n",
    "plt.ylabel('Precision')\n",
    "plt.ylim([0.0, 1.05])\n",
    "plt.xlim([0.0, 1.0])\n",
    "plt.title('OverSampling Precision-Recall curve: \\n Average Precision-Recall Score ={0:0.2f}'.format(\n",
    "          average_precision), fontsize=16)"
   ]
  },
  {
   "cell_type": "code",
   "execution_count": 64,
   "metadata": {},
   "outputs": [],
   "source": [
    "# SMOTE Technique (OverSampling) After splitting and Cross Validating\n",
    "sm = SMOTE(ratio='minority', random_state=42)\n",
    "\n",
    "Xsm_train, ysm_train = sm.fit_sample(original_Xtrain, original_ytrain)"
   ]
  },
  {
   "cell_type": "code",
   "execution_count": 65,
   "metadata": {},
   "outputs": [
    {
     "name": "stdout",
     "output_type": "stream",
     "text": [
      "(43246, 86)\n",
      "(43246,)\n"
     ]
    }
   ],
   "source": [
    "print(Xsm_train.shape)\n",
    "print(ysm_train.shape)"
   ]
  },
  {
   "cell_type": "code",
   "execution_count": 66,
   "metadata": {},
   "outputs": [
    {
     "name": "stdout",
     "output_type": "stream",
     "text": [
      "Fitting oversample data took :128.74165725708008 sec\n"
     ]
    }
   ],
   "source": [
    "# Build Logistic Regression model using best estimators chosen by RandomizedSearchCV\n",
    "t0 = time.time()\n",
    "log_reg_sm = rand_log_reg.best_estimator_\n",
    "log_reg_sm.fit(Xsm_train, ysm_train)\n",
    "t1 = time.time()\n",
    "print(\"Fitting oversample data took :{} sec\".format(t1 - t0))"
   ]
  },
  {
   "cell_type": "markdown",
   "metadata": {},
   "source": [
    "### Predictions on test data"
   ]
  },
  {
   "cell_type": "code",
   "execution_count": 69,
   "metadata": {},
   "outputs": [
    {
     "name": "stdout",
     "output_type": "stream",
     "text": [
      "[[4459  946]\n",
      " [  58  287]]\n",
      "Test recall score:  83.0 %\n",
      "Test precision_score:  23.0 %\n",
      "Test roc_auc_score:  83.0 %\n"
     ]
    }
   ],
   "source": [
    "from sklearn.metrics import confusion_matrix\n",
    "\n",
    "# Logistic Regression fitted using SMOTE technique\n",
    "y_pred_log_reg = log_reg_sm.predict(original_Xtest)\n",
    "\n",
    "log_reg_cf = confusion_matrix(original_ytest, y_pred_log_reg)\n",
    "print(log_reg_cf.round())\n",
    "\n",
    "print(\"Test recall score: \",recall_score(original_ytest, y_pred_log_reg).round(2)*100,\"%\")\n",
    "print(\"Test precision_score: \",precision_score(original_ytest, y_pred_log_reg).round(2)*100,\"%\")\n",
    "print(\"Test roc_auc_score: \",roc_auc_score(original_ytest, y_pred_log_reg).round(2)*100,\"%\")"
   ]
  },
  {
   "cell_type": "markdown",
   "metadata": {},
   "source": [
    "### ROC Curve"
   ]
  },
  {
   "cell_type": "code",
   "execution_count": 71,
   "metadata": {},
   "outputs": [],
   "source": [
    "\n",
    "def draw_roc( actual, probs ):\n",
    "    fpr, tpr, thresholds = roc_curve( actual, probs, drop_intermediate = False )\n",
    "    auc_score = roc_auc_score( actual, probs )\n",
    "    plt.figure(figsize=(6, 6))\n",
    "    plt.plot( fpr, tpr, label='ROC curve (area = %0.2f)' % auc_score )\n",
    "    plt.plot([0, 1], [0, 1], 'k--')\n",
    "    plt.xlim([0.0, 1.0])\n",
    "    plt.ylim([0.0, 1.05])\n",
    "    plt.xlabel('False Positive Rate or [1 - True Negative Rate]')\n",
    "    plt.ylabel('True Positive Rate')\n",
    "    plt.title('Receiver operating characteristic example')\n",
    "    plt.legend(loc=\"lower right\")\n",
    "    plt.show()\n",
    "\n",
    "    return fpr, tpr, thresholds"
   ]
  },
  {
   "cell_type": "code",
   "execution_count": 72,
   "metadata": {},
   "outputs": [
    {
     "data": {
      "image/png": "[encoded data removed]",
      "text/plain": [
       "<Figure size 432x432 with 1 Axes>"
      ]
     },
     "metadata": {
      "needs_background": "light"
     },
     "output_type": "display_data"
    },
    {
     "data": {
      "text/plain": [
       "(array([0.        , 0.17502313, 1.        ]),\n",
       " array([0.        , 0.83188406, 1.        ]),\n",
       " array([2, 1, 0]))"
      ]
     },
     "execution_count": 72,
     "metadata": {},
     "output_type": "execute_result"
    }
   ],
   "source": [
    "draw_roc(original_ytest, y_pred_log_reg)"
   ]
  },
  {
   "cell_type": "code",
   "execution_count": 73,
   "metadata": {},
   "outputs": [
    {
     "data": {
      "text/html": [
       "<div>\n",
       "<style scoped>\n",
       "    .dataframe tbody tr th:only-of-type {\n",
       "        vertical-align: middle;\n",
       "    }\n",
       "\n",
       "    .dataframe tbody tr th {\n",
       "        vertical-align: top;\n",
       "    }\n",
       "\n",
       "    .dataframe thead th {\n",
       "        text-align: right;\n",
       "    }\n",
       "</style>\n",
       "<table border=\"1\" class=\"dataframe\">\n",
       "  <thead>\n",
       "    <tr style=\"text-align: right;\">\n",
       "      <th></th>\n",
       "      <th>Threshold</th>\n",
       "      <th>Recall</th>\n",
       "      <th>Precision</th>\n",
       "      <th>ROC_AUC_Score</th>\n",
       "    </tr>\n",
       "  </thead>\n",
       "  <tbody>\n",
       "    <tr>\n",
       "      <th>0</th>\n",
       "      <td>0.1</td>\n",
       "      <td>0.965217</td>\n",
       "      <td>0.111633</td>\n",
       "      <td>0.737465</td>\n",
       "    </tr>\n",
       "    <tr>\n",
       "      <th>1</th>\n",
       "      <td>0.2</td>\n",
       "      <td>0.921739</td>\n",
       "      <td>0.138321</td>\n",
       "      <td>0.777613</td>\n",
       "    </tr>\n",
       "    <tr>\n",
       "      <th>2</th>\n",
       "      <td>0.3</td>\n",
       "      <td>0.889855</td>\n",
       "      <td>0.163733</td>\n",
       "      <td>0.799877</td>\n",
       "    </tr>\n",
       "    <tr>\n",
       "      <th>3</th>\n",
       "      <td>0.4</td>\n",
       "      <td>0.857971</td>\n",
       "      <td>0.196547</td>\n",
       "      <td>0.817052</td>\n",
       "    </tr>\n",
       "    <tr>\n",
       "      <th>4</th>\n",
       "      <td>0.5</td>\n",
       "      <td>0.831884</td>\n",
       "      <td>0.231452</td>\n",
       "      <td>0.827783</td>\n",
       "    </tr>\n",
       "    <tr>\n",
       "      <th>5</th>\n",
       "      <td>0.6</td>\n",
       "      <td>0.797101</td>\n",
       "      <td>0.279756</td>\n",
       "      <td>0.833056</td>\n",
       "    </tr>\n",
       "    <tr>\n",
       "      <th>6</th>\n",
       "      <td>0.7</td>\n",
       "      <td>0.718841</td>\n",
       "      <td>0.332886</td>\n",
       "      <td>0.813444</td>\n",
       "    </tr>\n",
       "    <tr>\n",
       "      <th>7</th>\n",
       "      <td>0.8</td>\n",
       "      <td>0.594203</td>\n",
       "      <td>0.383178</td>\n",
       "      <td>0.766574</td>\n",
       "    </tr>\n",
       "    <tr>\n",
       "      <th>8</th>\n",
       "      <td>0.9</td>\n",
       "      <td>0.400000</td>\n",
       "      <td>0.485915</td>\n",
       "      <td>0.686494</td>\n",
       "    </tr>\n",
       "  </tbody>\n",
       "</table>\n",
       "</div>"
      ],
      "text/plain": [
       "   Threshold    Recall  Precision  ROC_AUC_Score\n",
       "0        0.1  0.965217   0.111633       0.737465\n",
       "1        0.2  0.921739   0.138321       0.777613\n",
       "2        0.3  0.889855   0.163733       0.799877\n",
       "3        0.4  0.857971   0.196547       0.817052\n",
       "4        0.5  0.831884   0.231452       0.827783\n",
       "5        0.6  0.797101   0.279756       0.833056\n",
       "6        0.7  0.718841   0.332886       0.813444\n",
       "7        0.8  0.594203   0.383178       0.766574\n",
       "8        0.9  0.400000   0.485915       0.686494"
      ]
     },
     "execution_count": 73,
     "metadata": {},
     "output_type": "execute_result"
    }
   ],
   "source": [
    "y_test_pred_prob = log_reg_sm.predict_proba(original_Xtest).round(2)\n",
    "y_test_pred_prob = [i[1] for i in y_test_pred_prob]\n",
    "y_test_pred_prob_df = pd.DataFrame(y_test_pred_prob)\n",
    "y_test_pred_prob_df.columns = ['churn_prob_pred']\n",
    "\n",
    "y_test_pred_final = pd.DataFrame({'churn':original_ytest, \\\n",
    "                                   'churn_prob':y_test_pred_prob_df.churn_prob_pred.values})\n",
    "\n",
    "results_df = pd.DataFrame()\n",
    "threshold_list=[]\n",
    "recall_list=[]\n",
    "precision_list=[]\n",
    "roc_auc_score_list=[]\n",
    "\n",
    "for i in [0.1,0.2,0.3,0.4,0.5,0.6,0.7,0.8,0.9]:\n",
    "  y_test_pred_final['predicted'] = y_test_pred_final.churn_prob.map(lambda x: 1 if x >= i else 0)\n",
    "  threshold_list.append(i)\n",
    "  recall_list.append(recall_score(y_test_pred_final.churn,y_test_pred_final.predicted))\n",
    "  precision_list.append(precision_score(y_test_pred_final.churn,y_test_pred_final.predicted))\n",
    "  roc_auc_score_list.append(roc_auc_score(y_test_pred_final.churn,y_test_pred_final.predicted))\n",
    "\n",
    "results_df['Threshold'] = threshold_list\n",
    "results_df['Recall'] = recall_list\n",
    "results_df['Precision'] = precision_list\n",
    "results_df['ROC_AUC_Score'] = roc_auc_score_list\n",
    "results_df  "
   ]
  },
  {
   "cell_type": "markdown",
   "metadata": {},
   "source": [
    "**0.4 seems to be a good threshold. It gives us 85% recall and around 82% ROC_AUC_Score**"
   ]
  },
  {
   "cell_type": "markdown",
   "metadata": {},
   "source": [
    "---\n",
    "\n",
    "<i>\n",
    "\n",
    "We have got a decent area under the curve and recall accuracy. We have chosen Recall is a target metric to be tuned because we need to predict to be churn customers as perfect as possible. \n",
    "\n",
    "Higher recall value means churn customers are predicted correctly. This number will also have some customers those are not going to be churned but are classified as churn.\n",
    "\n",
    "Such incorrect classification does not negatively impact telecom company. Because predicting non-churn customers as churn might result in issue of some discount schemes to these customers resulting in more customer delight.\n",
    "</i>\n",
    "\n",
    "\n",
    "---\n",
    "\n"
   ]
  },
  {
   "cell_type": "code",
   "execution_count": 74,
   "metadata": {},
   "outputs": [
    {
     "name": "stdout",
     "output_type": "stream",
     "text": [
      "RandomForestClassifier(bootstrap=True, class_weight=None, criterion='gini',\n",
      "                       max_depth=None, max_features='auto', max_leaf_nodes=None,\n",
      "                       min_impurity_decrease=0.0, min_impurity_split=None,\n",
      "                       min_samples_leaf=1, min_samples_split=2,\n",
      "                       min_weight_fraction_leaf=0.0, n_estimators='warn',\n",
      "                       n_jobs=None, oob_score=False, random_state=None,\n",
      "                       verbose=0, warm_start=False)\n"
     ]
    }
   ],
   "source": [
    "from sklearn.ensemble import RandomForestClassifier\n",
    "rfc = RandomForestClassifier()\n",
    "print(rfc)"
   ]
  },
  {
   "cell_type": "code",
   "execution_count": 75,
   "metadata": {},
   "outputs": [
    {
     "name": "stdout",
     "output_type": "stream",
     "text": [
      "{'n_estimators': [100, 200, 500, 1000], 'max_features': ['auto', 'sqrt'], 'max_depth': [10, 20, 50, 100, None], 'min_samples_split': [2, 5, 10], 'min_samples_leaf': [1, 2, 4], 'bootstrap': [True, False]}\n",
      "Wall time: 999 µs\n",
      "Compiler : 240 ms\n",
      "Parser   : 1.72 s\n"
     ]
    }
   ],
   "source": [
    "%%time\n",
    "\n",
    "# Number of trees in random forest\n",
    "n_estimators = [100,200,500,1000]\n",
    "# Number of features to consider at every split\n",
    "max_features = ['auto', 'sqrt']\n",
    "# Maximum number of levels in tree\n",
    "max_depth = [10,20,50,100]\n",
    "max_depth.append(None)\n",
    "# Minimum number of samples required to split a node\n",
    "min_samples_split = [2, 5, 10]\n",
    "# Minimum number of samples required at each leaf node\n",
    "min_samples_leaf = [1, 2, 4]\n",
    "# Method of selecting samples for training each tree\n",
    "bootstrap = [True, False]\n",
    "# Create the random grid\n",
    "random_grid = {'n_estimators': n_estimators,\n",
    "               'max_features': max_features,\n",
    "               'max_depth': max_depth,\n",
    "               'min_samples_split': min_samples_split,\n",
    "               'min_samples_leaf': min_samples_leaf,\n",
    "               'bootstrap': bootstrap}\n",
    "\n",
    "print(random_grid)"
   ]
  },
  {
   "cell_type": "markdown",
   "metadata": {},
   "source": [
    "\n",
    "\n",
    "---\n",
    "\n",
    "\n",
    "**Using above mentioned grid params, we got following RandomForestClassifier best estimator and we predicted churn labels using this model. Below steps explain final stats that we have gathered using model prediction.**\n",
    "\n",
    "\n",
    "---\n",
    "\n",
    "```\n",
    "RandomForestClassifier<br/>\n",
    "(bootstrap=False, class_weight=None, criterion='gini',<br>\n",
    "max_depth=None, max_features=10, max_leaf_nodes=None,<br>\n",
    "min_impurity_decrease=0.0, min_impurity_split=None,<br>\n",
    "min_samples_leaf=1, min_samples_split=4,<br>\n",
    "min_weight_fraction_leaf=0.0, n_estimators=10,<br>\n",
    "n_jobs=None, oob_score=False, random_state=None,<br>\n",
    "verbose=0, warm_start=False)</br>\n",
    "```\n",
    "\n"
   ]
  },
  {
   "cell_type": "code",
   "execution_count": 76,
   "metadata": {},
   "outputs": [],
   "source": [
    "best_est = RandomForestClassifier(bootstrap=False, class_weight=None, criterion='gini',\n",
    "                       max_depth=None, max_features=10, max_leaf_nodes=None,\n",
    "                       min_impurity_decrease=0.0, min_impurity_split=None,\n",
    "                       min_samples_leaf=1, min_samples_split=4,\n",
    "                       min_weight_fraction_leaf=0.0, n_estimators=10,\n",
    "                       n_jobs=None, oob_score=False, random_state=None,\n",
    "                       verbose=0, warm_start=False)"
   ]
  },
  {
   "cell_type": "code",
   "execution_count": 77,
   "metadata": {},
   "outputs": [
    {
     "data": {
      "text/plain": [
       "RandomForestClassifier(bootstrap=False, class_weight=None, criterion='gini',\n",
       "                       max_depth=None, max_features=10, max_leaf_nodes=None,\n",
       "                       min_impurity_decrease=0.0, min_impurity_split=None,\n",
       "                       min_samples_leaf=1, min_samples_split=4,\n",
       "                       min_weight_fraction_leaf=0.0, n_estimators=10,\n",
       "                       n_jobs=None, oob_score=False, random_state=None,\n",
       "                       verbose=0, warm_start=False)"
      ]
     },
     "execution_count": 77,
     "metadata": {},
     "output_type": "execute_result"
    }
   ],
   "source": [
    "best_est.fit(original_Xtrain,original_ytrain)"
   ]
  },
  {
   "cell_type": "code",
   "execution_count": 78,
   "metadata": {},
   "outputs": [
    {
     "data": {
      "text/plain": [
       "array([1, 1, 0, ..., 1, 1, 1])"
      ]
     },
     "execution_count": 78,
     "metadata": {},
     "output_type": "execute_result"
    }
   ],
   "source": [
    "prediction = best_est.predict(original_Xtrain)\n",
    "prediction"
   ]
  },
  {
   "cell_type": "code",
   "execution_count": 79,
   "metadata": {},
   "outputs": [
    {
     "name": "stdout",
     "output_type": "stream",
     "text": [
      "Training recall score : 1.0\n",
      "Test accuracy_score:  100.0 %\n",
      "Test roc_auc_score:  100.0 %\n",
      "Training confusion matrix :\n",
      " [[21623     0]\n",
      " [    0  1384]]\n"
     ]
    }
   ],
   "source": [
    "print(\"Training recall score :\",recall_score(original_ytrain, prediction))\n",
    "print(\"Test accuracy_score: \",accuracy_score(original_ytrain, prediction).round(2)*100,\"%\")\n",
    "print(\"Test roc_auc_score: \",roc_auc_score(original_ytrain, prediction).round(2)*100,\"%\")\n",
    "print(\"Training confusion matrix :\\n\",confusion_matrix(original_ytrain, prediction))"
   ]
  },
  {
   "cell_type": "markdown",
   "metadata": {},
   "source": [
    "<b>Model has predicted train labels with 100% accuracy!!!!\n",
    "\n",
    "But, this might be the case of overfitting. Let's validate by testing our model of test data.</b>"
   ]
  },
  {
   "cell_type": "markdown",
   "metadata": {},
   "source": [
    "### Prediction on test data"
   ]
  },
  {
   "cell_type": "code",
   "execution_count": 81,
   "metadata": {},
   "outputs": [
    {
     "name": "stdout",
     "output_type": "stream",
     "text": [
      "Test confusion matrix :\n",
      " [[5328   77]\n",
      " [ 212  133]]\n",
      "Test recall score:  39.0 %\n",
      "Test accuracy_score:  95.0 %\n",
      "Test roc_auc_score:  69.0 %\n"
     ]
    }
   ],
   "source": [
    "y_pred_rfc = best_est.predict(original_Xtest)\n",
    "\n",
    "log_reg_cf = confusion_matrix(original_ytest, y_pred_rfc)\n",
    "print(\"Test confusion matrix :\\n\",log_reg_cf.round())\n",
    "\n",
    "print(\"Test recall score: \",recall_score(original_ytest, y_pred_rfc).round(2)*100,\"%\")\n",
    "print(\"Test accuracy_score: \",accuracy_score(original_ytest, y_pred_rfc).round(2)*100,\"%\")\n",
    "print(\"Test roc_auc_score: \",roc_auc_score(original_ytest, y_pred_rfc).round(2)*100,\"%\")"
   ]
  },
  {
   "cell_type": "markdown",
   "metadata": {},
   "source": [
    "<b>Accuracy is quite high as compared to logistic regression model. But, recall score is quite low. \n",
    "\n",
    "This means that RandomForestClassifier is unable to predict most of the churning customers.</b>"
   ]
  },
  {
   "cell_type": "code",
   "execution_count": 82,
   "metadata": {},
   "outputs": [
    {
     "data": {
      "text/html": [
       "<div>\n",
       "<style scoped>\n",
       "    .dataframe tbody tr th:only-of-type {\n",
       "        vertical-align: middle;\n",
       "    }\n",
       "\n",
       "    .dataframe tbody tr th {\n",
       "        vertical-align: top;\n",
       "    }\n",
       "\n",
       "    .dataframe thead th {\n",
       "        text-align: right;\n",
       "    }\n",
       "</style>\n",
       "<table border=\"1\" class=\"dataframe\">\n",
       "  <thead>\n",
       "    <tr style=\"text-align: right;\">\n",
       "      <th></th>\n",
       "      <th>Threshold</th>\n",
       "      <th>Recall</th>\n",
       "      <th>Precision</th>\n",
       "      <th>ROC_AUC_Score</th>\n",
       "    </tr>\n",
       "  </thead>\n",
       "  <tbody>\n",
       "    <tr>\n",
       "      <th>0</th>\n",
       "      <td>0.1</td>\n",
       "      <td>0.852174</td>\n",
       "      <td>0.232411</td>\n",
       "      <td>0.836263</td>\n",
       "    </tr>\n",
       "    <tr>\n",
       "      <th>1</th>\n",
       "      <td>0.2</td>\n",
       "      <td>0.713043</td>\n",
       "      <td>0.377301</td>\n",
       "      <td>0.818964</td>\n",
       "    </tr>\n",
       "    <tr>\n",
       "      <th>2</th>\n",
       "      <td>0.3</td>\n",
       "      <td>0.597101</td>\n",
       "      <td>0.469248</td>\n",
       "      <td>0.776997</td>\n",
       "    </tr>\n",
       "    <tr>\n",
       "      <th>3</th>\n",
       "      <td>0.4</td>\n",
       "      <td>0.504348</td>\n",
       "      <td>0.530488</td>\n",
       "      <td>0.737928</td>\n",
       "    </tr>\n",
       "    <tr>\n",
       "      <th>4</th>\n",
       "      <td>0.5</td>\n",
       "      <td>0.402899</td>\n",
       "      <td>0.594017</td>\n",
       "      <td>0.692661</td>\n",
       "    </tr>\n",
       "    <tr>\n",
       "      <th>5</th>\n",
       "      <td>0.6</td>\n",
       "      <td>0.342029</td>\n",
       "      <td>0.674286</td>\n",
       "      <td>0.665742</td>\n",
       "    </tr>\n",
       "    <tr>\n",
       "      <th>6</th>\n",
       "      <td>0.7</td>\n",
       "      <td>0.252174</td>\n",
       "      <td>0.696000</td>\n",
       "      <td>0.622572</td>\n",
       "    </tr>\n",
       "    <tr>\n",
       "      <th>7</th>\n",
       "      <td>0.8</td>\n",
       "      <td>0.153623</td>\n",
       "      <td>0.697368</td>\n",
       "      <td>0.574684</td>\n",
       "    </tr>\n",
       "    <tr>\n",
       "      <th>8</th>\n",
       "      <td>0.9</td>\n",
       "      <td>0.072464</td>\n",
       "      <td>0.694444</td>\n",
       "      <td>0.535214</td>\n",
       "    </tr>\n",
       "  </tbody>\n",
       "</table>\n",
       "</div>"
      ],
      "text/plain": [
       "   Threshold    Recall  Precision  ROC_AUC_Score\n",
       "0        0.1  0.852174   0.232411       0.836263\n",
       "1        0.2  0.713043   0.377301       0.818964\n",
       "2        0.3  0.597101   0.469248       0.776997\n",
       "3        0.4  0.504348   0.530488       0.737928\n",
       "4        0.5  0.402899   0.594017       0.692661\n",
       "5        0.6  0.342029   0.674286       0.665742\n",
       "6        0.7  0.252174   0.696000       0.622572\n",
       "7        0.8  0.153623   0.697368       0.574684\n",
       "8        0.9  0.072464   0.694444       0.535214"
      ]
     },
     "execution_count": 82,
     "metadata": {},
     "output_type": "execute_result"
    }
   ],
   "source": [
    "y_test_pred_prob = best_est.predict_proba(original_Xtest).round(2)\n",
    "y_test_pred_prob = [i[1] for i in y_test_pred_prob]\n",
    "y_test_pred_prob_df = pd.DataFrame(y_test_pred_prob)\n",
    "y_test_pred_prob_df.columns = ['churn_prob_pred']\n",
    "\n",
    "y_test_pred_final = pd.DataFrame({'churn':original_ytest, \\\n",
    "                                   'churn_prob':y_test_pred_prob_df.churn_prob_pred.values})\n",
    "\n",
    "results_df = pd.DataFrame()\n",
    "threshold_list=[]\n",
    "recall_list=[]\n",
    "precision_list=[]\n",
    "roc_auc_score_list=[]\n",
    "\n",
    "for i in [0.1,0.2,0.3,0.4,0.5,0.6,0.7,0.8,0.9]:\n",
    "  y_test_pred_final['predicted'] = y_test_pred_final.churn_prob.map(lambda x: 1 if x >= i else 0)\n",
    "  threshold_list.append(i)\n",
    "  recall_list.append(recall_score(y_test_pred_final.churn,y_test_pred_final.predicted))\n",
    "  precision_list.append(precision_score(y_test_pred_final.churn,y_test_pred_final.predicted))\n",
    "  roc_auc_score_list.append(roc_auc_score(y_test_pred_final.churn,y_test_pred_final.predicted))\n",
    "\n",
    "results_df['Threshold'] = threshold_list\n",
    "results_df['Recall'] = recall_list\n",
    "results_df['Precision'] = precision_list\n",
    "results_df['ROC_AUC_Score'] = roc_auc_score_list\n",
    "results_df  "
   ]
  },
  {
   "cell_type": "markdown",
   "metadata": {},
   "source": [
    "<b><i>\n",
    "    Test predictions are not satisfactory enough. So, we will go ahead with selecting LogisticsRegression model only.\n",
    "</i></b>    "
   ]
  },
  {
   "cell_type": "markdown",
   "metadata": {},
   "source": [
    "# Feature Selection"
   ]
  },
  {
   "cell_type": "markdown",
   "metadata": {},
   "source": [
    "Let's build another logistics regression model to check what are the features driving previously built model. Previous model was built using PCA modified dataset which is not quite interpreteble."
   ]
  },
  {
   "cell_type": "code",
   "execution_count": 85,
   "metadata": {},
   "outputs": [
    {
     "name": "stdout",
     "output_type": "stream",
     "text": [
      "X.shape : (3458, 86)\n",
      "y.shape : (3458,)\n"
     ]
    }
   ],
   "source": [
    "X = new_df.drop(['churn'], axis=1)\n",
    "y = new_df['churn']\n",
    "print(\"X.shape :\",X.shape)\n",
    "print(\"y.shape :\",y.shape)"
   ]
  },
  {
   "cell_type": "code",
   "execution_count": 86,
   "metadata": {},
   "outputs": [
    {
     "name": "stdout",
     "output_type": "stream",
     "text": [
      "X_train : (2766, 86)\n",
      "y_train : (2766,)\n",
      "X_test : (692, 86)\n",
      "y_test : (692,)\n"
     ]
    }
   ],
   "source": [
    "X_train,X_test,y_train,y_test = train_test_split(X,y,test_size=0.2,random_state=100)\n",
    "print(\"X_train :\",X_train.shape)\n",
    "print(\"y_train :\",y_train.shape)\n",
    "print(\"X_test :\",X_test.shape)\n",
    "print(\"y_test :\",y_test.shape)"
   ]
  },
  {
   "cell_type": "raw",
   "metadata": {},
   "source": [
    "log_reg_2 = LogisticRegression(penalty='l1',random_state=100)\n",
    "print(log_reg_2)"
   ]
  },
  {
   "cell_type": "code",
   "execution_count": 87,
   "metadata": {},
   "outputs": [],
   "source": [
    "%%time\n",
    "from sklearn.feature_selection import RFE\n",
    "rfe = RFE(log_reg_2, 15)             \n",
    "rfe = rfe.fit(X_train, y_train)"
   ]
  },
  {
   "cell_type": "code",
   "execution_count": 89,
   "metadata": {},
   "outputs": [
    {
     "data": {
      "text/plain": [
       "Index(['loc_og_mou_8', 'total_og_mou_8', 'loc_ic_mou_8', 'total_ic_mou_8',\n",
       "       'spl_ic_mou_8', 'date_of_last_rech_8', 'monthly_2g_8', 'monthly_3g_8',\n",
       "       'vbc_3g_8', 'avg_monthly_3g_av67', 'avg_offnet_mou_av67',\n",
       "       'avg_total_ic_mou_av67', 'avg_total_og_mou_av67', 'avg_onnet_mou_av67',\n",
       "       'aon_months'],\n",
       "      dtype='object')"
      ]
     },
     "execution_count": 89,
     "metadata": {},
     "output_type": "execute_result"
    }
   ],
   "source": [
    "col = X_train.columns[rfe.support_]\n",
    "col"
   ]
  },
  {
   "cell_type": "code",
   "execution_count": 91,
   "metadata": {},
   "outputs": [
    {
     "data": {
      "image/png": "[encoded data removed]",
      "text/plain": [
       "<Figure size 1440x720 with 2 Axes>"
      ]
     },
     "metadata": {
      "needs_background": "light"
     },
     "output_type": "display_data"
    }
   ],
   "source": [
    "# Correlation heatmap to identify colinearity between RFE selected independent variables\n",
    "corr = X_train[col].corr()\n",
    "\n",
    "fig = plt.figure(figsize=(20,10))\n",
    "sns.heatmap(corr,cmap=\"YlGnBu\",annot=True)\n",
    "\n",
    "fig.show()"
   ]
  },
  {
   "cell_type": "markdown",
   "metadata": {},
   "source": [
    "<b>\n",
    "    `loc_ic_mou_8` and `total_ic_mou_8` have high +ve correlation. One of the will have to be dropped during further analysis.\n",
    "</b>    "
   ]
  },
  {
   "cell_type": "markdown",
   "metadata": {},
   "source": [
    "### Assessing the model with StatsModels"
   ]
  },
  {
   "cell_type": "code",
   "execution_count": 100,
   "metadata": {},
   "outputs": [],
   "source": [
    "import statsmodels.api as sm1"
   ]
  },
  {
   "cell_type": "code",
   "execution_count": 103,
   "metadata": {},
   "outputs": [],
   "source": [
    "#Defining a reusable function to build model\n",
    "def build_model(X_train,y_train):\n",
    "    X_train_sm = sm1.add_constant(X_train) \n",
    "    log_model = sm1.GLM(y_train,X_train_sm, family = sm1.families.Binomial())\n",
    "    res = log_model.fit()\n",
    "    print(res.summary())\n",
    "    return X_train_sm   "
   ]
  },
  {
   "cell_type": "code",
   "execution_count": 104,
   "metadata": {},
   "outputs": [
    {
     "name": "stdout",
     "output_type": "stream",
     "text": [
      "                 Generalized Linear Model Regression Results                  \n",
      "==============================================================================\n",
      "Dep. Variable:                  churn   No. Observations:                 2766\n",
      "Model:                            GLM   Df Residuals:                     2750\n",
      "Model Family:                Binomial   Df Model:                           15\n",
      "Link Function:                  logit   Scale:                          1.0000\n",
      "Method:                          IRLS   Log-Likelihood:                -1180.5\n",
      "Date:                Sun, 03 Nov 2019   Deviance:                       2361.0\n",
      "Time:                        23:24:22   Pearson chi2:                 1.69e+04\n",
      "No. Iterations:                     7   Covariance Type:             nonrobust\n",
      "=========================================================================================\n",
      "                            coef    std err          z      P>|z|      [0.025      0.975]\n",
      "-----------------------------------------------------------------------------------------\n",
      "const                    -0.6537      0.110     -5.970      0.000      -0.868      -0.439\n",
      "loc_og_mou_8             -0.2847      0.109     -2.604      0.009      -0.499      -0.070\n",
      "total_og_mou_8           -0.5484      0.092     -5.931      0.000      -0.730      -0.367\n",
      "loc_ic_mou_8             -1.5238      0.216     -7.057      0.000      -1.947      -1.101\n",
      "total_ic_mou_8           -0.4864      0.179     -2.720      0.007      -0.837      -0.136\n",
      "spl_ic_mou_8             -4.6519      0.993     -4.684      0.000      -6.599      -2.705\n",
      "date_of_last_rech_8      -0.4439      0.056     -7.864      0.000      -0.554      -0.333\n",
      "monthly_2g_8             -1.1181      0.209     -5.349      0.000      -1.528      -0.708\n",
      "monthly_3g_8             -0.8052      0.190     -4.246      0.000      -1.177      -0.434\n",
      "vbc_3g_8                 -0.2910      0.043     -6.802      0.000      -0.375      -0.207\n",
      "avg_monthly_3g_av67       0.5603      0.159      3.529      0.000       0.249       0.872\n",
      "avg_offnet_mou_av67       1.1750      0.211      5.572      0.000       0.762       1.588\n",
      "avg_total_ic_mou_av67     0.3795      0.098      3.883      0.000       0.188       0.571\n",
      "avg_total_og_mou_av67    -1.4616      0.373     -3.923      0.000      -2.192      -0.731\n",
      "avg_onnet_mou_av67        0.8035      0.148      5.425      0.000       0.513       1.094\n",
      "aon_months               -0.4364      0.084     -5.214      0.000      -0.600      -0.272\n",
      "=========================================================================================\n"
     ]
    }
   ],
   "source": [
    "X_train_rfe1 = build_model(X_train[col],y_train)"
   ]
  },
  {
   "cell_type": "markdown",
   "metadata": {},
   "source": [
    "<b>\n",
    "All the RFE selected variables seems to be significant. Let's check multicollinearity between selected variables.\n",
    "</b>    "
   ]
  },
  {
   "cell_type": "code",
   "execution_count": 106,
   "metadata": {},
   "outputs": [],
   "source": [
    "from statsmodels.stats.outliers_influence import variance_inflation_factor"
   ]
  },
  {
   "cell_type": "code",
   "execution_count": 107,
   "metadata": {},
   "outputs": [
    {
     "data": {
      "text/html": [
       "<div>\n",
       "<style scoped>\n",
       "    .dataframe tbody tr th:only-of-type {\n",
       "        vertical-align: middle;\n",
       "    }\n",
       "\n",
       "    .dataframe tbody tr th {\n",
       "        vertical-align: top;\n",
       "    }\n",
       "\n",
       "    .dataframe thead th {\n",
       "        text-align: right;\n",
       "    }\n",
       "</style>\n",
       "<table border=\"1\" class=\"dataframe\">\n",
       "  <thead>\n",
       "    <tr style=\"text-align: right;\">\n",
       "      <th></th>\n",
       "      <th>Features</th>\n",
       "      <th>VIF</th>\n",
       "    </tr>\n",
       "  </thead>\n",
       "  <tbody>\n",
       "    <tr>\n",
       "      <th>13</th>\n",
       "      <td>avg_total_og_mou_av67</td>\n",
       "      <td>23.43</td>\n",
       "    </tr>\n",
       "    <tr>\n",
       "      <th>11</th>\n",
       "      <td>avg_offnet_mou_av67</td>\n",
       "      <td>12.95</td>\n",
       "    </tr>\n",
       "    <tr>\n",
       "      <th>14</th>\n",
       "      <td>avg_onnet_mou_av67</td>\n",
       "      <td>10.80</td>\n",
       "    </tr>\n",
       "    <tr>\n",
       "      <th>4</th>\n",
       "      <td>total_ic_mou_8</td>\n",
       "      <td>6.99</td>\n",
       "    </tr>\n",
       "    <tr>\n",
       "      <th>3</th>\n",
       "      <td>loc_ic_mou_8</td>\n",
       "      <td>6.19</td>\n",
       "    </tr>\n",
       "    <tr>\n",
       "      <th>0</th>\n",
       "      <td>const</td>\n",
       "      <td>3.25</td>\n",
       "    </tr>\n",
       "    <tr>\n",
       "      <th>12</th>\n",
       "      <td>avg_total_ic_mou_av67</td>\n",
       "      <td>2.10</td>\n",
       "    </tr>\n",
       "    <tr>\n",
       "      <th>2</th>\n",
       "      <td>total_og_mou_8</td>\n",
       "      <td>2.02</td>\n",
       "    </tr>\n",
       "    <tr>\n",
       "      <th>8</th>\n",
       "      <td>monthly_3g_8</td>\n",
       "      <td>2.00</td>\n",
       "    </tr>\n",
       "    <tr>\n",
       "      <th>10</th>\n",
       "      <td>avg_monthly_3g_av67</td>\n",
       "      <td>1.98</td>\n",
       "    </tr>\n",
       "    <tr>\n",
       "      <th>1</th>\n",
       "      <td>loc_og_mou_8</td>\n",
       "      <td>1.75</td>\n",
       "    </tr>\n",
       "    <tr>\n",
       "      <th>9</th>\n",
       "      <td>vbc_3g_8</td>\n",
       "      <td>1.25</td>\n",
       "    </tr>\n",
       "    <tr>\n",
       "      <th>7</th>\n",
       "      <td>monthly_2g_8</td>\n",
       "      <td>1.14</td>\n",
       "    </tr>\n",
       "    <tr>\n",
       "      <th>6</th>\n",
       "      <td>date_of_last_rech_8</td>\n",
       "      <td>1.08</td>\n",
       "    </tr>\n",
       "    <tr>\n",
       "      <th>15</th>\n",
       "      <td>aon_months</td>\n",
       "      <td>1.08</td>\n",
       "    </tr>\n",
       "    <tr>\n",
       "      <th>5</th>\n",
       "      <td>spl_ic_mou_8</td>\n",
       "      <td>1.03</td>\n",
       "    </tr>\n",
       "  </tbody>\n",
       "</table>\n",
       "</div>"
      ],
      "text/plain": [
       "                 Features    VIF\n",
       "13  avg_total_og_mou_av67  23.43\n",
       "11    avg_offnet_mou_av67  12.95\n",
       "14     avg_onnet_mou_av67  10.80\n",
       "4          total_ic_mou_8   6.99\n",
       "3            loc_ic_mou_8   6.19\n",
       "0                   const   3.25\n",
       "12  avg_total_ic_mou_av67   2.10\n",
       "2          total_og_mou_8   2.02\n",
       "8            monthly_3g_8   2.00\n",
       "10    avg_monthly_3g_av67   1.98\n",
       "1            loc_og_mou_8   1.75\n",
       "9                vbc_3g_8   1.25\n",
       "7            monthly_2g_8   1.14\n",
       "6     date_of_last_rech_8   1.08\n",
       "15             aon_months   1.08\n",
       "5            spl_ic_mou_8   1.03"
      ]
     },
     "execution_count": 107,
     "metadata": {},
     "output_type": "execute_result"
    }
   ],
   "source": [
    "vif = pd.DataFrame()\n",
    "vif['Features'] = X_train_rfe1.columns\n",
    "vif['VIF'] = [variance_inflation_factor(X_train_rfe1.values, i) for i in range(X_train_rfe1.shape[1])]\n",
    "vif['VIF'] = round(vif['VIF'], 2)\n",
    "vif = vif.sort_values(by = \"VIF\", ascending = False)\n",
    "vif"
   ]
  },
  {
   "cell_type": "markdown",
   "metadata": {},
   "source": [
    "VIF value is quite high for `avg_total_og_mou_av67` (>5).So, we will drop this variable from model."
   ]
  },
  {
   "cell_type": "code",
   "execution_count": 109,
   "metadata": {},
   "outputs": [
    {
     "name": "stdout",
     "output_type": "stream",
     "text": [
      "                 Generalized Linear Model Regression Results                  \n",
      "==============================================================================\n",
      "Dep. Variable:                  churn   No. Observations:                 2766\n",
      "Model:                            GLM   Df Residuals:                     2751\n",
      "Model Family:                Binomial   Df Model:                           14\n",
      "Link Function:                  logit   Scale:                          1.0000\n",
      "Method:                          IRLS   Log-Likelihood:                -1191.1\n",
      "Date:                Sun, 03 Nov 2019   Deviance:                       2382.1\n",
      "Time:                        23:33:14   Pearson chi2:                 1.91e+04\n",
      "No. Iterations:                     7   Covariance Type:             nonrobust\n",
      "=========================================================================================\n",
      "                            coef    std err          z      P>|z|      [0.025      0.975]\n",
      "-----------------------------------------------------------------------------------------\n",
      "const                    -0.3538      0.079     -4.476      0.000      -0.509      -0.199\n",
      "loc_og_mou_8             -0.3078      0.109     -2.814      0.005      -0.522      -0.093\n",
      "total_og_mou_8           -0.6201      0.095     -6.537      0.000      -0.806      -0.434\n",
      "loc_ic_mou_8             -1.5052      0.210     -7.154      0.000      -1.918      -1.093\n",
      "total_ic_mou_8           -0.4131      0.172     -2.407      0.016      -0.750      -0.077\n",
      "spl_ic_mou_8             -4.7811      0.994     -4.809      0.000      -6.730      -2.832\n",
      "date_of_last_rech_8      -0.4317      0.056     -7.717      0.000      -0.541      -0.322\n",
      "monthly_2g_8             -1.1354      0.207     -5.482      0.000      -1.541      -0.729\n",
      "monthly_3g_8             -0.8252      0.189     -4.355      0.000      -1.197      -0.454\n",
      "vbc_3g_8                 -0.2910      0.043     -6.807      0.000      -0.375      -0.207\n",
      "avg_monthly_3g_av67       0.5844      0.158      3.704      0.000       0.275       0.894\n",
      "avg_offnet_mou_av67       0.4052      0.058      7.006      0.000       0.292       0.519\n",
      "avg_total_ic_mou_av67     0.3049      0.093      3.267      0.001       0.122       0.488\n",
      "avg_onnet_mou_av67        0.2679      0.045      6.020      0.000       0.181       0.355\n",
      "aon_months               -0.4055      0.082     -4.942      0.000      -0.566      -0.245\n",
      "=========================================================================================\n"
     ]
    }
   ],
   "source": [
    "X_train_rfe2 = X_train_rfe1.drop(columns='avg_total_og_mou_av67',axis=1)\n",
    "\n",
    "# Buiild another model using remaining variables\n",
    "X_train_rfe2 = build_model(X_train_rfe2,y_train)"
   ]
  },
  {
   "cell_type": "markdown",
   "metadata": {},
   "source": [
    "All variables are significant. Let's check VIF."
   ]
  },
  {
   "cell_type": "code",
   "execution_count": 110,
   "metadata": {},
   "outputs": [
    {
     "data": {
      "text/html": [
       "<div>\n",
       "<style scoped>\n",
       "    .dataframe tbody tr th:only-of-type {\n",
       "        vertical-align: middle;\n",
       "    }\n",
       "\n",
       "    .dataframe tbody tr th {\n",
       "        vertical-align: top;\n",
       "    }\n",
       "\n",
       "    .dataframe thead th {\n",
       "        text-align: right;\n",
       "    }\n",
       "</style>\n",
       "<table border=\"1\" class=\"dataframe\">\n",
       "  <thead>\n",
       "    <tr style=\"text-align: right;\">\n",
       "      <th></th>\n",
       "      <th>Features</th>\n",
       "      <th>VIF</th>\n",
       "    </tr>\n",
       "  </thead>\n",
       "  <tbody>\n",
       "    <tr>\n",
       "      <th>4</th>\n",
       "      <td>total_ic_mou_8</td>\n",
       "      <td>6.98</td>\n",
       "    </tr>\n",
       "    <tr>\n",
       "      <th>3</th>\n",
       "      <td>loc_ic_mou_8</td>\n",
       "      <td>6.19</td>\n",
       "    </tr>\n",
       "    <tr>\n",
       "      <th>0</th>\n",
       "      <td>const</td>\n",
       "      <td>2.11</td>\n",
       "    </tr>\n",
       "    <tr>\n",
       "      <th>12</th>\n",
       "      <td>avg_total_ic_mou_av67</td>\n",
       "      <td>2.08</td>\n",
       "    </tr>\n",
       "    <tr>\n",
       "      <th>2</th>\n",
       "      <td>total_og_mou_8</td>\n",
       "      <td>2.00</td>\n",
       "    </tr>\n",
       "    <tr>\n",
       "      <th>8</th>\n",
       "      <td>monthly_3g_8</td>\n",
       "      <td>2.00</td>\n",
       "    </tr>\n",
       "    <tr>\n",
       "      <th>10</th>\n",
       "      <td>avg_monthly_3g_av67</td>\n",
       "      <td>1.98</td>\n",
       "    </tr>\n",
       "    <tr>\n",
       "      <th>1</th>\n",
       "      <td>loc_og_mou_8</td>\n",
       "      <td>1.75</td>\n",
       "    </tr>\n",
       "    <tr>\n",
       "      <th>13</th>\n",
       "      <td>avg_onnet_mou_av67</td>\n",
       "      <td>1.30</td>\n",
       "    </tr>\n",
       "    <tr>\n",
       "      <th>9</th>\n",
       "      <td>vbc_3g_8</td>\n",
       "      <td>1.25</td>\n",
       "    </tr>\n",
       "    <tr>\n",
       "      <th>11</th>\n",
       "      <td>avg_offnet_mou_av67</td>\n",
       "      <td>1.24</td>\n",
       "    </tr>\n",
       "    <tr>\n",
       "      <th>7</th>\n",
       "      <td>monthly_2g_8</td>\n",
       "      <td>1.14</td>\n",
       "    </tr>\n",
       "    <tr>\n",
       "      <th>14</th>\n",
       "      <td>aon_months</td>\n",
       "      <td>1.08</td>\n",
       "    </tr>\n",
       "    <tr>\n",
       "      <th>6</th>\n",
       "      <td>date_of_last_rech_8</td>\n",
       "      <td>1.07</td>\n",
       "    </tr>\n",
       "    <tr>\n",
       "      <th>5</th>\n",
       "      <td>spl_ic_mou_8</td>\n",
       "      <td>1.03</td>\n",
       "    </tr>\n",
       "  </tbody>\n",
       "</table>\n",
       "</div>"
      ],
      "text/plain": [
       "                 Features   VIF\n",
       "4          total_ic_mou_8  6.98\n",
       "3            loc_ic_mou_8  6.19\n",
       "0                   const  2.11\n",
       "12  avg_total_ic_mou_av67  2.08\n",
       "2          total_og_mou_8  2.00\n",
       "8            monthly_3g_8  2.00\n",
       "10    avg_monthly_3g_av67  1.98\n",
       "1            loc_og_mou_8  1.75\n",
       "13     avg_onnet_mou_av67  1.30\n",
       "9                vbc_3g_8  1.25\n",
       "11    avg_offnet_mou_av67  1.24\n",
       "7            monthly_2g_8  1.14\n",
       "14             aon_months  1.08\n",
       "6     date_of_last_rech_8  1.07\n",
       "5            spl_ic_mou_8  1.03"
      ]
     },
     "execution_count": 110,
     "metadata": {},
     "output_type": "execute_result"
    }
   ],
   "source": [
    "vif = pd.DataFrame()\n",
    "vif['Features'] = X_train_rfe2.columns\n",
    "vif['VIF'] = [variance_inflation_factor(X_train_rfe2.values, i) for i in range(X_train_rfe2.shape[1])]\n",
    "vif['VIF'] = round(vif['VIF'], 2)\n",
    "vif = vif.sort_values(by = \"VIF\", ascending = False)\n",
    "vif"
   ]
  },
  {
   "cell_type": "markdown",
   "metadata": {},
   "source": [
    "`total_ic_mou_8` is explained better by other variables in the model. We have previously seen that variable `lo c_ic_mou_8` is having very strong correlationship with `total_ic_mou_8`. Hence this should be dropped."
   ]
  },
  {
   "cell_type": "code",
   "execution_count": 112,
   "metadata": {},
   "outputs": [
    {
     "name": "stdout",
     "output_type": "stream",
     "text": [
      "                 Generalized Linear Model Regression Results                  \n",
      "==============================================================================\n",
      "Dep. Variable:                  churn   No. Observations:                 2766\n",
      "Model:                            GLM   Df Residuals:                     2752\n",
      "Model Family:                Binomial   Df Model:                           13\n",
      "Link Function:                  logit   Scale:                          1.0000\n",
      "Method:                          IRLS   Log-Likelihood:                -1194.7\n",
      "Date:                Sun, 03 Nov 2019   Deviance:                       2389.4\n",
      "Time:                        23:39:02   Pearson chi2:                 2.43e+04\n",
      "No. Iterations:                     7   Covariance Type:             nonrobust\n",
      "=========================================================================================\n",
      "                            coef    std err          z      P>|z|      [0.025      0.975]\n",
      "-----------------------------------------------------------------------------------------\n",
      "const                    -0.3405      0.079     -4.323      0.000      -0.495      -0.186\n",
      "loc_og_mou_8             -0.2975      0.110     -2.715      0.007      -0.512      -0.083\n",
      "total_og_mou_8           -0.6917      0.092     -7.552      0.000      -0.871      -0.512\n",
      "loc_ic_mou_8             -1.7856      0.170    -10.501      0.000      -2.119      -1.452\n",
      "spl_ic_mou_8             -4.8616      0.998     -4.873      0.000      -6.817      -2.906\n",
      "date_of_last_rech_8      -0.4352      0.056     -7.771      0.000      -0.545      -0.325\n",
      "monthly_2g_8             -1.1639      0.206     -5.639      0.000      -1.568      -0.759\n",
      "monthly_3g_8             -0.8365      0.189     -4.422      0.000      -1.207      -0.466\n",
      "vbc_3g_8                 -0.2939      0.043     -6.851      0.000      -0.378      -0.210\n",
      "avg_monthly_3g_av67       0.5841      0.157      3.717      0.000       0.276       0.892\n",
      "avg_offnet_mou_av67       0.4203      0.057      7.314      0.000       0.308       0.533\n",
      "avg_total_ic_mou_av67     0.1951      0.077      2.519      0.012       0.043       0.347\n",
      "avg_onnet_mou_av67        0.2846      0.044      6.437      0.000       0.198       0.371\n",
      "aon_months               -0.3985      0.082     -4.870      0.000      -0.559      -0.238\n",
      "=========================================================================================\n"
     ]
    }
   ],
   "source": [
    "X_train_rfe3 = X_train_rfe2.drop(columns='total_ic_mou_8',axis=1)\n",
    "\n",
    "# Buiild another model using remaining variables\n",
    "X_train_rfe3 = build_model(X_train_rfe3,y_train)\n"
   ]
  },
  {
   "cell_type": "code",
   "execution_count": 113,
   "metadata": {},
   "outputs": [
    {
     "data": {
      "text/html": [
       "<div>\n",
       "<style scoped>\n",
       "    .dataframe tbody tr th:only-of-type {\n",
       "        vertical-align: middle;\n",
       "    }\n",
       "\n",
       "    .dataframe tbody tr th {\n",
       "        vertical-align: top;\n",
       "    }\n",
       "\n",
       "    .dataframe thead th {\n",
       "        text-align: right;\n",
       "    }\n",
       "</style>\n",
       "<table border=\"1\" class=\"dataframe\">\n",
       "  <thead>\n",
       "    <tr style=\"text-align: right;\">\n",
       "      <th></th>\n",
       "      <th>Features</th>\n",
       "      <th>VIF</th>\n",
       "    </tr>\n",
       "  </thead>\n",
       "  <tbody>\n",
       "    <tr>\n",
       "      <th>3</th>\n",
       "      <td>loc_ic_mou_8</td>\n",
       "      <td>2.14</td>\n",
       "    </tr>\n",
       "    <tr>\n",
       "      <th>0</th>\n",
       "      <td>const</td>\n",
       "      <td>2.10</td>\n",
       "    </tr>\n",
       "    <tr>\n",
       "      <th>7</th>\n",
       "      <td>monthly_3g_8</td>\n",
       "      <td>2.00</td>\n",
       "    </tr>\n",
       "    <tr>\n",
       "      <th>9</th>\n",
       "      <td>avg_monthly_3g_av67</td>\n",
       "      <td>1.98</td>\n",
       "    </tr>\n",
       "    <tr>\n",
       "      <th>2</th>\n",
       "      <td>total_og_mou_8</td>\n",
       "      <td>1.87</td>\n",
       "    </tr>\n",
       "    <tr>\n",
       "      <th>11</th>\n",
       "      <td>avg_total_ic_mou_av67</td>\n",
       "      <td>1.82</td>\n",
       "    </tr>\n",
       "    <tr>\n",
       "      <th>1</th>\n",
       "      <td>loc_og_mou_8</td>\n",
       "      <td>1.74</td>\n",
       "    </tr>\n",
       "    <tr>\n",
       "      <th>12</th>\n",
       "      <td>avg_onnet_mou_av67</td>\n",
       "      <td>1.29</td>\n",
       "    </tr>\n",
       "    <tr>\n",
       "      <th>8</th>\n",
       "      <td>vbc_3g_8</td>\n",
       "      <td>1.25</td>\n",
       "    </tr>\n",
       "    <tr>\n",
       "      <th>10</th>\n",
       "      <td>avg_offnet_mou_av67</td>\n",
       "      <td>1.23</td>\n",
       "    </tr>\n",
       "    <tr>\n",
       "      <th>6</th>\n",
       "      <td>monthly_2g_8</td>\n",
       "      <td>1.13</td>\n",
       "    </tr>\n",
       "    <tr>\n",
       "      <th>13</th>\n",
       "      <td>aon_months</td>\n",
       "      <td>1.08</td>\n",
       "    </tr>\n",
       "    <tr>\n",
       "      <th>5</th>\n",
       "      <td>date_of_last_rech_8</td>\n",
       "      <td>1.07</td>\n",
       "    </tr>\n",
       "    <tr>\n",
       "      <th>4</th>\n",
       "      <td>spl_ic_mou_8</td>\n",
       "      <td>1.03</td>\n",
       "    </tr>\n",
       "  </tbody>\n",
       "</table>\n",
       "</div>"
      ],
      "text/plain": [
       "                 Features   VIF\n",
       "3            loc_ic_mou_8  2.14\n",
       "0                   const  2.10\n",
       "7            monthly_3g_8  2.00\n",
       "9     avg_monthly_3g_av67  1.98\n",
       "2          total_og_mou_8  1.87\n",
       "11  avg_total_ic_mou_av67  1.82\n",
       "1            loc_og_mou_8  1.74\n",
       "12     avg_onnet_mou_av67  1.29\n",
       "8                vbc_3g_8  1.25\n",
       "10    avg_offnet_mou_av67  1.23\n",
       "6            monthly_2g_8  1.13\n",
       "13             aon_months  1.08\n",
       "5     date_of_last_rech_8  1.07\n",
       "4            spl_ic_mou_8  1.03"
      ]
     },
     "execution_count": 113,
     "metadata": {},
     "output_type": "execute_result"
    }
   ],
   "source": [
    "vif = pd.DataFrame()\n",
    "vif['Features'] = X_train_rfe3.columns\n",
    "vif['VIF'] = [variance_inflation_factor(X_train_rfe3.values, i) for i in range(X_train_rfe3.shape[1])]\n",
    "vif['VIF'] = round(vif['VIF'], 2)\n",
    "vif = vif.sort_values(by = \"VIF\", ascending = False)\n",
    "vif"
   ]
  },
  {
   "cell_type": "code",
   "execution_count": null,
   "metadata": {},
   "outputs": [],
   "source": [
    "def draw_boxplots(df,col_name_x,col_name_y):\n",
    "  f, axes = plt.subplots(ncols=3, figsize=(12,3))\n",
    "  sns.boxplot(x=col_name_x, y=col_name_y[0], data=df[df[col_name_y[0]]<df[col_name_y[0]].quantile(0.99)], ax=axes[0])\n",
    "  sns.boxplot(x=col_name_x, y=col_name_y[1], data=df[df[col_name_y[1]]<df[col_name_y[1]].quantile(0.99)], ax=axes[1])\n",
    "  sns.boxplot(x=col_name_x, y=col_name_y[2], data=df[df[col_name_y[2]]<df[col_name_y[2]].quantile(0.99)], ax=axes[2])\n",
    "  plt.tight_layout()\n",
    "  f.show()"
   ]
  },
  {
   "cell_type": "code",
   "execution_count": 114,
   "metadata": {},
   "outputs": [
    {
     "data": {
      "text/plain": [
       "(28757, 87)"
      ]
     },
     "execution_count": 114,
     "metadata": {},
     "output_type": "execute_result"
    }
   ],
   "source": [
    "telecom_churn_data.shape"
   ]
  },
  {
   "cell_type": "code",
   "execution_count": null,
   "metadata": {},
   "outputs": [],
   "source": [
    "draw_boxplots"
   ]
  }
 ],
 "metadata": {
  "kernelspec": {
   "display_name": "Python 3",
   "language": "python",
   "name": "python3"
  },
  "language_info": {
   "codemirror_mode": {
    "name": "ipython",
    "version": 3
   },
   "file_extension": ".py",
   "mimetype": "text/x-python",
   "name": "python",
   "nbconvert_exporter": "python",
   "pygments_lexer": "ipython3",
   "version": "3.7.1"
  }
 },
 "nbformat": 4,
 "nbformat_minor": 2
}
